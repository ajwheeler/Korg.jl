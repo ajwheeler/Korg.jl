{
 "cells": [
  {
   "cell_type": "markdown",
   "source": [
    "You may have to execute these cells to see the plot outputs"
   ],
   "metadata": {}
  },
  {
   "cell_type": "markdown",
   "source": [
    "# Equivalent width fitting"
   ],
   "metadata": {}
  },
  {
   "cell_type": "markdown",
   "source": [
    "This tutorial shows how to use Korg to fit the abundances of a star using equivalent widths.\n",
    "We'll use the data from [Melendez 2014](https://ui.adsabs.harvard.edu/abs/2014ApJ...791...14M/abstract),\n",
    "which are available in the `Table 1.dat` file, and recreate some of the analysis from that paper.\n",
    "\n",
    "First, we'll import the necessary packages.\n",
    "These examples use the PythonPlot package, which provides a nice Julia interface to Matplotlib,\n",
    "but of course you can plot however you like.\n",
    "We'll also use CSV and DataFrames to read in the data from the paper."
   ],
   "metadata": {}
  },
  {
   "outputs": [],
   "cell_type": "code",
   "source": [
    "    using Korg, PythonPlot, CSV, DataFrames"
   ],
   "metadata": {},
   "execution_count": 1
  },
  {
   "cell_type": "markdown",
   "source": [
    "## Creating a custom linelist\n",
    "\n",
    "Korg can read in linelists in a variety of formats, including the VALD, MOOG, Kurucz, and ExoMol\n",
    "formats, but sometimes you'll want to use one in another format, e.g. from a table in a paper.\n",
    "We'll use the data from Table 1 of\n",
    "[Melendez 2014](https://ui.adsabs.harvard.edu/abs/2014ApJ...791...14M/abstract),\n",
    "which are available in the\n",
    "[`Table 1.dat` file](https://cdsarc.cds.unistra.fr/viz-bin/cat/J/ApJ/791/14#/browse).\n",
    "\n",
    "First, we read the data into a DataFrame called `lines`. This is a convenient way to work with\n",
    "tabular data."
   ],
   "metadata": {}
  },
  {
   "outputs": [],
   "cell_type": "code",
   "source": [
    "lines = CSV.read(\"../../assets/Table 1.dat\", DataFrame; skipto=25, delim=' ', ignorerepeated=true,\n",
    "                 header=[\"wl\", \"species\", \"ExPot\", \"log_gf\", \"C6\", \"EW_18Sco\", \"EW_Sun\"]);"
   ],
   "metadata": {},
   "execution_count": 2
  },
  {
   "cell_type": "markdown",
   "source": [
    "Next, we convert the numbers in the species column to `Korg.Species` objects.\n",
    "The `Korg.Species` constructor takes a string and returns a `Korg.Species` object, and supports\n",
    "nearly all of the formats for specifying species found in the wild.\n",
    "\n",
    "The `.` applies the function to each element of the series. This is called \"broadcasting\"."
   ],
   "metadata": {}
  },
  {
   "outputs": [
    {
     "output_type": "execute_result",
     "data": {
      "text/plain": "323-element Vector{Korg.Species}:\n Fe I\n Fe I\n Fe I\n Fe I\n Fe I\n Fe I\n Fe I\n Fe I\n Fe I\n Fe I\n ⋮\n Gd II\n Gd II\n Dy II\n Dy II\n Dy II\n Dy II\n Dy II\n Dy II\n Yb II"
     },
     "metadata": {},
     "execution_count": 3
    }
   ],
   "cell_type": "code",
   "source": [
    "lines.species = Korg.Species.(lines.species)"
   ],
   "metadata": {},
   "execution_count": 3
  },
  {
   "cell_type": "markdown",
   "source": [
    "Let's look at Fe lines only, and sort them by wavelength."
   ],
   "metadata": {}
  },
  {
   "outputs": [
    {
     "output_type": "execute_result",
     "data": {
      "text/plain": "\u001b[1m4×7 DataFrame\u001b[0m\n\u001b[1m Row \u001b[0m│\u001b[1m wl      \u001b[0m\u001b[1m species \u001b[0m\u001b[1m ExPot   \u001b[0m\u001b[1m log_gf  \u001b[0m\u001b[1m C6       \u001b[0m\u001b[1m EW_18Sco \u001b[0m\u001b[1m EW_Sun  \u001b[0m\n\u001b[1m     \u001b[0m│\u001b[90m Float64 \u001b[0m\u001b[90m Species \u001b[0m\u001b[90m Float64 \u001b[0m\u001b[90m Float64 \u001b[0m\u001b[90m Float64  \u001b[0m\u001b[90m Float64  \u001b[0m\u001b[90m Float64 \u001b[0m\n─────┼─────────────────────────────────────────────────────────────────\n   1 │ 5044.21  Fe I      2.8512   -2.058  2.71e-31      74.8     74.3\n   2 │ 5054.64  Fe I      3.64     -1.921  4.68e-32      40.9     40.5\n   3 │ 5127.36  Fe I      0.915    -3.307  1.84e-32      97.5     96.1\n   4 │ 5127.68  Fe I      0.052    -6.125  1.2e-32       18.9     19.1",
      "text/html": [
       "<div><div style = \"float: left;\"><span>4×7 DataFrame</span></div><div style = \"clear: both;\"></div></div><div class = \"data-frame\" style = \"overflow-x: scroll;\"><table class = \"data-frame\" style = \"margin-bottom: 6px;\"><thead><tr class = \"columnLabelRow\"><th class = \"stubheadLabel\" style = \"font-weight: bold; text-align: right;\">Row</th><th style = \"text-align: left;\">wl</th><th style = \"text-align: left;\">species</th><th style = \"text-align: left;\">ExPot</th><th style = \"text-align: left;\">log_gf</th><th style = \"text-align: left;\">C6</th><th style = \"text-align: left;\">EW_18Sco</th><th style = \"text-align: left;\">EW_Sun</th></tr><tr class = \"columnLabelRow\"><th class = \"stubheadLabel\" style = \"font-weight: bold; text-align: right;\"></th><th title = \"Float64\" style = \"text-align: left;\">Float64</th><th title = \"Korg.Species\" style = \"text-align: left;\">Species</th><th title = \"Float64\" style = \"text-align: left;\">Float64</th><th title = \"Float64\" style = \"text-align: left;\">Float64</th><th title = \"Float64\" style = \"text-align: left;\">Float64</th><th title = \"Float64\" style = \"text-align: left;\">Float64</th><th title = \"Float64\" style = \"text-align: left;\">Float64</th></tr></thead><tbody><tr class = \"dataRow\"><td class = \"rowLabel\" style = \"font-weight: bold; text-align: right;\">1</td><td style = \"text-align: right;\">5044.21</td><td style = \"text-align: left;\">Fe I</td><td style = \"text-align: right;\">2.8512</td><td style = \"text-align: right;\">-2.058</td><td style = \"text-align: right;\">2.71e-31</td><td style = \"text-align: right;\">74.8</td><td style = \"text-align: right;\">74.3</td></tr><tr class = \"dataRow\"><td class = \"rowLabel\" style = \"font-weight: bold; text-align: right;\">2</td><td style = \"text-align: right;\">5054.64</td><td style = \"text-align: left;\">Fe I</td><td style = \"text-align: right;\">3.64</td><td style = \"text-align: right;\">-1.921</td><td style = \"text-align: right;\">4.68e-32</td><td style = \"text-align: right;\">40.9</td><td style = \"text-align: right;\">40.5</td></tr><tr class = \"dataRow\"><td class = \"rowLabel\" style = \"font-weight: bold; text-align: right;\">3</td><td style = \"text-align: right;\">5127.36</td><td style = \"text-align: left;\">Fe I</td><td style = \"text-align: right;\">0.915</td><td style = \"text-align: right;\">-3.307</td><td style = \"text-align: right;\">1.84e-32</td><td style = \"text-align: right;\">97.5</td><td style = \"text-align: right;\">96.1</td></tr><tr class = \"dataRow\"><td class = \"rowLabel\" style = \"font-weight: bold; text-align: right;\">4</td><td style = \"text-align: right;\">5127.68</td><td style = \"text-align: left;\">Fe I</td><td style = \"text-align: right;\">0.052</td><td style = \"text-align: right;\">-6.125</td><td style = \"text-align: right;\">1.2e-32</td><td style = \"text-align: right;\">18.9</td><td style = \"text-align: right;\">19.1</td></tr></tbody></table></div>"
      ]
     },
     "metadata": {},
     "execution_count": 4
    }
   ],
   "cell_type": "code",
   "source": [
    "filter!(lines) do row\n",
    "    #careful, get_atom throws an error when applied to a molecular species\n",
    "    Korg.get_atom(row.species) == 26 # atomic number of Fe\n",
    "end\n",
    "\n",
    "sort!(lines, :wl)\n",
    "lines[1:4, :] # look at the first few rows"
   ],
   "metadata": {},
   "execution_count": 4
  },
  {
   "cell_type": "markdown",
   "source": [
    "To pass the lines to Korg, we need to turn each row of the `lines` DataFrame into a\n",
    "`Korg.Line` object. Korg will use reasonable defaults for the broadening parameters,\n",
    "but see the `Korg.Line` documentation for details on how to specify them if you need\n",
    "to do that."
   ],
   "metadata": {}
  },
  {
   "outputs": [
    {
     "output_type": "execute_result",
     "data": {
      "text/plain": "98-element Vector{Korg.Line{Float64, Float64, Float64, Float64, Float64, Float64}}:\n Fe I 5044.211 Å (log gf = -2.06, χ = 2.85 eV)\n Fe I 5054.642 Å (log gf = -1.92, χ = 3.64 eV)\n Fe I 5127.359 Å (log gf = -3.31, χ = 0.92 eV)\n Fe I 5127.679 Å (log gf = -6.12, χ = 0.05 eV)\n Fe II 5197.577 Å (log gf = -2.22, χ = 3.23 eV)\n Fe I 5198.711 Å (log gf = -2.13, χ = 2.22 eV)\n Fe I 5225.525 Å (log gf = -4.79, χ = 0.11 eV)\n Fe II 5234.625 Å (log gf = -2.18, χ = 3.22 eV)\n Fe I 5242.491 Å (log gf = -0.97, χ = 3.63 eV)\n Fe I 5247.05 Å (log gf = -4.95, χ = 0.09 eV)\n ⋮\n Fe I 6750.152 Å (log gf = -2.62, χ = 2.42 eV)\n Fe I 6752.707 Å (log gf = -1.2, χ = 4.64 eV)\n Fe I 6793.259 Å (log gf = -2.33, χ = 4.08 eV)\n Fe I 6806.845 Å (log gf = -3.11, χ = 2.73 eV)\n Fe I 6810.263 Å (log gf = -0.99, χ = 4.61 eV)\n Fe I 6837.006 Å (log gf = -1.69, χ = 4.59 eV)\n Fe I 6839.83 Å (log gf = -3.35, χ = 2.56 eV)\n Fe I 6843.656 Å (log gf = -0.86, χ = 4.55 eV)\n Fe I 6858.15 Å (log gf = -0.93, χ = 4.61 eV)"
     },
     "metadata": {},
     "execution_count": 5
    }
   ],
   "cell_type": "code",
   "source": [
    "linelist = Korg.Line.(lines.wl, # can be in either cm or Å (like these), but NOT nm\n",
    "                      lines.log_gf,\n",
    "                      lines.species, # needs to be a Korg.Species, which we handled in the cell above\n",
    "                      lines.ExPot) # excitation potential, i.e. lower level energy (must be in eV)"
   ],
   "metadata": {},
   "execution_count": 5
  },
  {
   "cell_type": "markdown",
   "source": [
    "We can use `lines` directly with Korg at this point, but if we want to save it for later use,\n",
    "we can save it to an hdf5 file."
   ],
   "metadata": {}
  },
  {
   "outputs": [],
   "cell_type": "code",
   "source": [
    "#read this back in with Korg.read_linelist(\"Fe_lines.h5\"; format=\"korg\")\n",
    "Korg.save_linelist(\"Fe_lines.h5\", linelist);"
   ],
   "metadata": {},
   "execution_count": 6
  },
  {
   "cell_type": "markdown",
   "source": [
    "## Equivalent width fitting"
   ],
   "metadata": {}
  },
  {
   "cell_type": "markdown",
   "source": [
    "Now that we have our linelist, let's perform equivalent width fitting to determine abundances.\n",
    "We'll compare the Sun and 18 Sco using the equivalent widths from the paper.\n",
    "\n",
    "First, we'll define the parameters for the Sun and 18 Sco."
   ],
   "metadata": {}
  },
  {
   "outputs": [
    {
     "output_type": "execute_result",
     "data": {
      "text/plain": "Korg.PlanarAtmosphere{Float64, Float64, Float64, Float64, Float64} with 56 layers"
     },
     "metadata": {},
     "execution_count": 7
    }
   ],
   "cell_type": "code",
   "source": [
    "#solar params\n",
    "sun_Teff, sun_logg, sun_Fe_H, sun_vmic = 5777, 4.44, 0.0, 1.0\n",
    "#vector of abundances for the sun\n",
    "sun_A_X = Korg.format_A_X(sun_Fe_H)\n",
    "#model atmosphere for the sun\n",
    "sun_atm = Korg.interpolate_marcs(sun_Teff, sun_logg, sun_A_X)"
   ],
   "metadata": {},
   "execution_count": 7
  },
  {
   "cell_type": "markdown",
   "source": [
    "and likewise for 18 Sco"
   ],
   "metadata": {}
  },
  {
   "outputs": [
    {
     "output_type": "execute_result",
     "data": {
      "text/plain": "Korg.PlanarAtmosphere{Float64, Float64, Float64, Float64, Float64} with 56 layers"
     },
     "metadata": {},
     "execution_count": 8
    }
   ],
   "cell_type": "code",
   "source": [
    "sco_teff, sco_logg, sco_fe_h, sco_vmic = (5823, 4.45, 0.054, sun_vmic + 0.02)\n",
    "sco_A_X = Korg.format_A_X(sco_fe_h)\n",
    "sco_atm = Korg.interpolate_marcs(sco_teff, sco_logg, sco_A_X)"
   ],
   "metadata": {},
   "execution_count": 8
  },
  {
   "cell_type": "markdown",
   "source": [
    "Now we can calculate abundances from the EWs for each star."
   ],
   "metadata": {}
  },
  {
   "outputs": [],
   "cell_type": "code",
   "source": [
    "A_sun = Korg.Fit.ews_to_abundances(sun_atm, linelist, sun_A_X, lines.EW_Sun; vmic=sun_vmic)\n",
    "A_18Sco = Korg.Fit.ews_to_abundances(sco_atm, linelist, sco_A_X, lines.EW_18Sco; vmic=sco_vmic);"
   ],
   "metadata": {},
   "execution_count": 9
  },
  {
   "cell_type": "markdown",
   "source": [
    "Let's plot the abundance differences as a function of excitation potential to check for\n",
    "non-LTE effects or other systematic issues."
   ],
   "metadata": {}
  },
  {
   "outputs": [
    {
     "output_type": "execute_result",
     "data": {
      "text/plain": "Python: <matplotlib.legend.Legend object at 0x7f6c5a0ef4d0>"
     },
     "metadata": {},
     "execution_count": 10
    }
   ],
   "cell_type": "code",
   "source": [
    "neutrals = [spec.charge == 0 for spec in lines.species] #bitmask for the lines of Fe I vs Fe II\n",
    "χ = [l.E_lower for l in linelist] # the excitation potential for each line\n",
    "\n",
    "scatter(χ[neutrals], (A_18Sco-A_sun)[neutrals]; label=\"Fe I\")\n",
    "scatter(χ[.!neutrals], (A_18Sco-A_sun)[.!neutrals]; label=\"Fe II\")\n",
    "ylabel(L\"A(Fe)_\\mathrm{18 Sco} - A(Fe)_\\mathrm{sun}\")\n",
    "xlabel(\"χ [eV]\")\n",
    "legend()"
   ],
   "metadata": {},
   "execution_count": 10
  }
 ],
 "nbformat_minor": 3,
 "metadata": {
  "language_info": {
   "file_extension": ".jl",
   "mimetype": "application/julia",
   "name": "julia",
   "version": "1.11.7"
  },
  "kernelspec": {
   "name": "julia-1.11",
   "display_name": "Julia 1.11.7",
   "language": "julia"
  }
 },
 "nbformat": 4
}