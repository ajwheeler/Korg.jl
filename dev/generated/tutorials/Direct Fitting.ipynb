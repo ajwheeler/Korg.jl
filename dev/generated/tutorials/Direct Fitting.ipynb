{
 "cells": [
  {
   "cell_type": "markdown",
   "source": [
    "You may have to execute these cells to see the plot outputs\n",
    "\n",
    "In this example, we'll show how to use `Korg.Fit.fit_spectrum` to fit one of the spectra from\n",
    "[Griffith et al. 2022](https://ui.adsabs.harvard.edu/abs/2022arXiv221001821G). You will probably\n",
    "find it helpful to look at the [documentation for this\n",
    "function](https://ajwheeler.github.io/Korg.jl/stable/API/#Korg.Fit.fit_spectrum) as well. For\n",
    "fitting equivalent widths (rather than spectra directly) see [the documentation for\n",
    "`Korg.Fit.ews_to_abundances`](https://ajwheeler.github.io/Korg.jl/stable/API/#Korg.Fit.ews_to_abundances).\n",
    "\n",
    "A quick disclaimer: this example is intended to demonstrate the usage of Korg's fitting\n",
    "functionality, not to be an ironclad spectral analysis.\n",
    "\n",
    "We'll use a few packages in addition to Korg in this example. If you don't have them installed, you\n",
    "can run `using Pkg; Pkg.add([\"CSV\", \"DataFrames\", \"PyPlot\"])` to install them."
   ],
   "metadata": {}
  },
  {
   "outputs": [],
   "cell_type": "code",
   "source": [
    "    using Korg, PythonPlot, CSV, DataFrames"
   ],
   "metadata": {},
   "execution_count": 1
  },
  {
   "cell_type": "markdown",
   "source": [
    "# Reading in the data\n",
    "First, we need to read in the linelist, \"window list\" (the locations of lines to be fit), and\n",
    "spectrum. You can download the data files from Korg's GitHub repository at\n",
    "[https://github.com/ajwheeler/Korg.jl/tree/v1.0.0/docs/src/assets/Griffith_2022](https://github.com/ajwheeler/Korg.jl/tree/v1.0.0/docs/src/assets/Griffith_2022).\n",
    "\n",
    "## Linelist\n",
    "As in the Equivalent Widths Example, we want to reproduce the results of a\n",
    "specific paper, so we'll use the linelist from that paper."
   ],
   "metadata": {}
  },
  {
   "outputs": [
    {
     "output_type": "execute_result",
     "data": {
      "text/plain": "140292-element Vector{Korg.Line{Float64, Float64, Float64, Float64, Float64, Float64}}:\n Ti I 4201.202404 Å (log gf = -2.49, χ = 1.88 eV)\n Nd II 4201.205404 Å (log gf = -1.64, χ = 0.06 eV)\n W I 4201.211406 Å (log gf = -0.99, χ = 2.04 eV)\n U II 4201.269421 Å (log gf = -1.47, χ = 0.78 eV)\n Fe I 4201.270421 Å (log gf = -1.13, χ = 3.88 eV)\n Cr I 4201.284425 Å (log gf = -1.03, χ = 3.08 eV)\n Co I 4201.285425 Å (log gf = -1.01, χ = 4.07 eV)\n Fe II 4201.344441 Å (log gf = -3.65, χ = 7.73 eV)\n Cr I 4201.352443 Å (log gf = -0.86, χ = 3.84 eV)\n V I 4201.361445 Å (log gf = -2.29, χ = 0.28 eV)\n ⋮\n Fe I 9202.415925 Å (log gf = -6.33, χ = 5.38 eV)\n Mn I 9202.415925 Å (log gf = -5.62, χ = 4.35 eV)\n Fe II 9202.421927 Å (log gf = -2.72, χ = 12.76 eV)\n Mn II 9202.425928 Å (log gf = -1.66, χ = 13.44 eV)\n Mn II 9202.425928 Å (log gf = -0.71, χ = 13.44 eV)\n Mn II 9202.425928 Å (log gf = -0.25, χ = 13.44 eV)\n Mn II 9202.510951 Å (log gf = -1.62, χ = 13.44 eV)\n Mn II 9202.510951 Å (log gf = -0.73, χ = 13.44 eV)\n Mn II 9202.510951 Å (log gf = -0.4, χ = 13.44 eV)"
     },
     "metadata": {},
     "execution_count": 2
    }
   ],
   "cell_type": "code",
   "source": [
    "linetable = CSV.read(\"../../assets/Griffith_2022/lines.csv\", DataFrame);\n",
    "linelist = Korg.Line.(Korg.air_to_vacuum.(linetable.wave_A),\n",
    "                      linetable.loggf,\n",
    "                      Korg.Species.(linetable.element),\n",
    "                      linetable.lower_state_eV,\n",
    "                      linetable.rad,\n",
    "                      linetable.stark,\n",
    "                      linetable.waals)"
   ],
   "metadata": {},
   "execution_count": 2
  },
  {
   "cell_type": "markdown",
   "source": [
    "Next, we'll read in the \"window list\", which provides wavelength ranges for features to be fit.\n",
    "We'll read this into a dictionary that maps atomic number to a vector of (lower, upper) wavelength\n",
    "bounds."
   ],
   "metadata": {}
  },
  {
   "outputs": [],
   "cell_type": "code",
   "source": [
    "windowtable = CSV.File(\"../../assets/Griffith_2022/windows.tsv\"; delim='\\t');\n",
    "windows = Dict()\n",
    "for row in windowtable\n",
    "    #atomic number\n",
    "    Z = Korg.get_atoms(Korg.Species(row.species))[1]\n",
    "    #get the windows for this element so far\n",
    "    wins = get(windows, Z, [])\n",
    "    #add the new window\n",
    "    push!(wins, (Korg.air_to_vacuum(row.wave_base * 10), Korg.air_to_vacuum(row.wave_top * 10)))\n",
    "    #update the dictionary\n",
    "    windows[Z] = wins\n",
    "end"
   ],
   "metadata": {},
   "execution_count": 3
  },
  {
   "cell_type": "markdown",
   "source": [
    "Finally, read in the observed spectrum."
   ],
   "metadata": {}
  },
  {
   "outputs": [
    {
     "output_type": "execute_result",
     "data": {
      "text/plain": "27969-element Vector{Float64}:\n 4222.237789574116\n 4222.277860033124\n 4222.317919782653\n 4222.357968822494\n 4222.398007152436\n 4222.438034772281\n 4222.47805168182\n 4222.518057880852\n 4222.558053369179\n 4222.598038146595\n    ⋮\n 6318.009557531354\n 6318.068451939513\n 6318.127329935025\n 6318.186191521686\n 6318.245036703283\n 6318.3038654835955\n 6318.362677866404\n 6318.421473855483\n 6318.480253454593"
     },
     "metadata": {},
     "execution_count": 4
    }
   ],
   "cell_type": "code",
   "source": [
    "spec = CSV.read(\"../../assets/Griffith_2022/2MASS_J03443498+0553014.csv\", DataFrame)\n",
    "spec.waveobs = Korg.air_to_vacuum.(spec.waveobs * 10)"
   ],
   "metadata": {},
   "execution_count": 4
  },
  {
   "cell_type": "markdown",
   "source": [
    "# Fitting iron lines to get stellar parameters\n",
    "\n",
    "First, we'll provide an initial guess for each parameter we want to fit."
   ],
   "metadata": {}
  },
  {
   "cell_type": "markdown",
   "source": [
    "this is a \"NamedTuple\", but you can also use a dictionary if you prefer"
   ],
   "metadata": {}
  },
  {
   "outputs": [
    {
     "output_type": "execute_result",
     "data": {
      "text/plain": "(Teff = 5400, logg = 3.8, M_H = -1.1, vmic = 1.0)"
     },
     "metadata": {},
     "execution_count": 5
    }
   ],
   "cell_type": "code",
   "source": [
    "initial_guess = (; Teff=5400, logg=3.8, M_H=-1.1, vmic=1.0)"
   ],
   "metadata": {},
   "execution_count": 5
  },
  {
   "cell_type": "markdown",
   "source": [
    "Next, we'll fit the spectrum using only the iron line locations from `windows`.\n",
    "The object produced, `fit_result`, contains several bits of information, most importantly the best-fit\n",
    "parameters."
   ],
   "metadata": {}
  },
  {
   "outputs": [
    {
     "output_type": "execute_result",
     "data": {
      "text/plain": "Dict{String, Float64} with 4 entries:\n  \"M_H\"  => -1.39496\n  \"Teff\" => 5238.59\n  \"logg\" => 3.652\n  \"vmic\" => 0.804352"
     },
     "metadata": {},
     "execution_count": 6
    }
   ],
   "cell_type": "code",
   "source": [
    "winds = windows[26] # use Fe windows\n",
    "fit_result = Korg.Fit.fit_spectrum(spec.waveobs, spec.flux, spec.err, linelist, initial_guess;\n",
    "                                   windows=winds, R=50_000)\n",
    "fit_result.best_fit_params"
   ],
   "metadata": {},
   "execution_count": 6
  },
  {
   "cell_type": "markdown",
   "source": [
    "It also contains the trace, which we can plot to see how the fit converged.\n",
    "Here's the $\\chi^2$ as a function of the optimizer step."
   ],
   "metadata": {}
  },
  {
   "outputs": [
    {
     "output_type": "execute_result",
     "data": {
      "text/plain": "Python: Text(0.5, 0, 'optimizer step')"
     },
     "metadata": {},
     "execution_count": 7
    }
   ],
   "cell_type": "code",
   "source": [
    "plot([t[\"chi2\"] for t in fit_result.trace])\n",
    "ylabel(L\"χ^2\")\n",
    "xlabel(\"optimizer step\")"
   ],
   "metadata": {},
   "execution_count": 7
  },
  {
   "cell_type": "markdown",
   "source": [
    "Here's the temperature as a function of the optimizer step."
   ],
   "metadata": {}
  },
  {
   "outputs": [
    {
     "output_type": "execute_result",
     "data": {
      "text/plain": "Python: Text(0.5, 0, 'optimizer step')"
     },
     "metadata": {},
     "execution_count": 8
    }
   ],
   "cell_type": "code",
   "source": [
    "plot([t[\"Teff\"] for t in fit_result.trace])\n",
    "ylabel(L\"$T_\\mathrm{eff}$ [K]\")\n",
    "xlabel(\"optimizer step\")"
   ],
   "metadata": {},
   "execution_count": 8
  },
  {
   "cell_type": "markdown",
   "source": [
    "The `fit_result` object also contains the best-fit spectrum, which we can plot in comparison to\n",
    "the observed one. Let's look at one of the iron lines."
   ],
   "metadata": {}
  },
  {
   "cell_type": "markdown",
   "source": [
    "get the observed spectrum only at the wavelengths within a fitting window"
   ],
   "metadata": {}
  },
  {
   "outputs": [
    {
     "output_type": "execute_result",
     "data": {
      "text/plain": "(6214.848051823155, 6215.448212849815)"
     },
     "metadata": {},
     "execution_count": 9
    }
   ],
   "cell_type": "code",
   "source": [
    "obs_wls = spec.waveobs[fit_result.obs_wl_mask]\n",
    "obs_flux = spec.flux[fit_result.obs_wl_mask]\n",
    "obs_err = spec.err[fit_result.obs_wl_mask]\n",
    "\n",
    "w = rand(winds) # choose a window around a random Fe line"
   ],
   "metadata": {},
   "execution_count": 9
  },
  {
   "cell_type": "markdown",
   "source": [
    "create a bitmask to plot the window plus 1 Å on each side for context"
   ],
   "metadata": {}
  },
  {
   "outputs": [
    {
     "output_type": "execute_result",
     "data": {
      "text/plain": "Python: <matplotlib.legend.Legend object at 0x7fa6682179d0>"
     },
     "metadata": {},
     "execution_count": 10
    }
   ],
   "cell_type": "code",
   "source": [
    "mask = w[1] - 1 .< obs_wls .< w[2] + 1\n",
    "\n",
    "scatter(obs_wls[mask], fit_result.best_fit_flux[mask]; c=\"r\", label=\"Korg\")\n",
    "errorbar(obs_wls[mask], obs_flux[mask]; yerr=obs_err[mask], ls=\"\", c=\"k\", label=\"data\")\n",
    "legend()"
   ],
   "metadata": {},
   "execution_count": 10
  },
  {
   "cell_type": "markdown",
   "source": [
    "# Fit individual abundances\n",
    "\n",
    "Now, let's fit for the sodium abundance, holding the stellar parameters fixed.\n",
    "We'll use the stellar parameters from Griffith, rather than the ones from the analysis above.\n",
    "Comparing the abundances you get using each is left as an exercise to the reader.\n",
    "\n",
    "First, we'll define the initial guess for the Na abundance and the parameters to hold fixed."
   ],
   "metadata": {}
  },
  {
   "outputs": [
    {
     "output_type": "execute_result",
     "data": {
      "text/plain": "(Teff = 5456, logg = 3.86, M_H = -1.22, vsini = 2.4, vmic = 1.23)"
     },
     "metadata": {},
     "execution_count": 11
    }
   ],
   "cell_type": "code",
   "source": [
    "init_params = (; Na=-1.0)\n",
    "griffith_params = (Teff=5456, logg=3.86, M_H=-1.22, vsini=2.4, vmic=1.23)"
   ],
   "metadata": {},
   "execution_count": 11
  },
  {
   "cell_type": "markdown",
   "source": [
    "Next, we'll fit the sodium lines.\n",
    "The only difference from how we called `fit_spectrum` the first time is that we pass in a\n",
    "second set of parameters to hold fixed. `Korg.Fit.fit_spectrum` supports any combination\n",
    "of parameters to fit and hold fixed."
   ],
   "metadata": {}
  },
  {
   "outputs": [
    {
     "output_type": "execute_result",
     "data": {
      "text/plain": "-1.0927979511142993"
     },
     "metadata": {},
     "execution_count": 12
    }
   ],
   "cell_type": "code",
   "source": [
    "winds = windows[11] # windows for Na (atomic number 11)\n",
    "na_result = Korg.Fit.fit_spectrum(spec.waveobs, spec.flux, spec.err, linelist,\n",
    "                                  init_params, griffith_params;\n",
    "                                  R=50_000, windows=winds) # 11 is the atomic number of Na\n",
    "na_result.best_fit_params[\"Na\"]"
   ],
   "metadata": {},
   "execution_count": 12
  },
  {
   "cell_type": "markdown",
   "source": [
    "# Parameter uncertainty\n",
    "\n",
    "Under the hood, `Korg.Fit.fit_spectrum` uses\n",
    "[LBFGS](https://en.wikipedia.org/wiki/Limited-memory_BFGS) to find the best-fit parameters.\n",
    "That means it produces an estimate of the Hessian of the likelihood function, and thus the\n",
    "covariance matrix of the best-fit parameters."
   ],
   "metadata": {}
  },
  {
   "outputs": [
    {
     "output_type": "execute_result",
     "data": {
      "text/plain": "([\"M_H\", \"Teff\", \"logg\", \"vmic\"], [4.893993201858873e-6 0.005920107612551214 9.316413652934688e-6 2.4333691286618047e-6; 0.00592010761225701 8.32512726709147 0.012402415152366756 0.0074201506004782595; 9.31641365287257e-6 0.012402415152127302 2.8117320858228447e-5 5.0701825656507825e-6; 2.433369128649073e-6 0.007420150600452442 5.070182565691571e-6 2.5825427971845413e-5])"
     },
     "metadata": {},
     "execution_count": 13
    }
   ],
   "cell_type": "code",
   "source": [
    "fit_result.covariance"
   ],
   "metadata": {},
   "execution_count": 13
  },
  {
   "cell_type": "markdown",
   "source": [
    "We caution the user that this is a very rough estimate, likely\n",
    "appropriate only for identifying pathological cases or the order of magnitude of the uncertainties."
   ],
   "metadata": {}
  }
 ],
 "nbformat_minor": 3,
 "metadata": {
  "language_info": {
   "file_extension": ".jl",
   "mimetype": "application/julia",
   "name": "julia",
   "version": "1.11.7"
  },
  "kernelspec": {
   "name": "julia-1.11",
   "display_name": "Julia 1.11.7",
   "language": "julia"
  }
 },
 "nbformat": 4
}