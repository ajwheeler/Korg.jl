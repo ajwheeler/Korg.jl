{
 "cells": [
  {
   "cell_type": "markdown",
   "id": "b1c9787e-781e-439f-9599-ea5c0d2f644b",
   "metadata": {},
   "source": [
    "# Equivalent width fitting\n",
    "This notebook is an example of how to go from measured equivalent widths to abundances.  We'll use the data from [Melendez 2014](https://ui.adsabs.harvard.edu/abs/2014ApJ...791...14M/abstract) and redo their differential analysis of iron lines 18 Sco."
   ]
  },
  {
   "cell_type": "code",
   "execution_count": 1,
   "id": "25fa263f-d156-4a4a-ab1e-02bea37f9d9b",
   "metadata": {
    "execution": {
     "iopub.execute_input": "2025-05-09T18:06:43.576Z",
     "iopub.status.busy": "2025-05-09T18:06:43.356Z",
     "iopub.status.idle": "2025-05-09T18:06:46.205Z",
     "shell.execute_reply": "2025-05-09T18:06:46.17Z"
    }
   },
   "outputs": [],
   "source": [
    "using Korg, DataFrames, CSV, PyPlot"
   ]
  },
  {
   "cell_type": "markdown",
   "id": "988c6101-cff0-4320-a444-954379815fdc",
   "metadata": {},
   "source": [
    "## parsing the linelist"
   ]
  },
  {
   "cell_type": "code",
   "execution_count": 2,
   "id": "eeac654b-0dcd-420c-82b1-bdee393e2f44",
   "metadata": {
    "execution": {
     "iopub.execute_input": "2025-05-09T18:06:46.371Z",
     "iopub.status.busy": "2025-05-09T18:06:46.279Z",
     "iopub.status.idle": "2025-05-09T18:06:48.217Z",
     "shell.execute_reply": "2025-05-09T18:06:48.216Z"
    }
   },
   "outputs": [],
   "source": [
    "# use the CSV library to read the contents of Table 1, which were downloaded from the journal website\n",
    "# the \"lines\" objects is a DataFrame, which we'll use to organize our data\n",
    "lines = CSV.read(\"Table 1.dat\", DataFrame; skipto=25, delim=' ', ignorerepeated=true,\n",
    "    header=[\"wl\", \"species\", \"ExPot\", \"log_gf\", \"C6\", \"EW_18Sco\", \"EW_Sun\"])\n",
    "\n",
    "# convert the numbers in the species column to Korg.Species objects\n",
    "lines.species = Korg.Species.(lines.species)\n",
    "\n",
    "# let's look at Fe lines only\n",
    "filter!(lines) do row\n",
    "    Korg.get_atoms(row.species) == [26]\n",
    "end\n",
    "\n",
    "#sort by wavelength\n",
    "sort!(lines, :wl)\n",
    ";"
   ]
  },
  {
   "cell_type": "code",
   "execution_count": 3,
   "id": "87d2b027-79bc-4b86-9480-82da48dcae3a",
   "metadata": {
    "execution": {
     "iopub.execute_input": "2025-05-09T18:06:48.217Z",
     "iopub.status.busy": "2025-05-09T18:06:48.217Z",
     "iopub.status.idle": "2025-05-09T18:06:48.266Z",
     "shell.execute_reply": "2025-05-09T18:06:48.265Z"
    }
   },
   "outputs": [],
   "source": [
    "# to pass the lines to Korg, we need to turn each row of the \"lines\" DataFrame into a Korg.Line object\n",
    "linelist = Korg.Line.(lines.wl, # can be in either cm or Å (like these), but NOT nm\n",
    "                      lines.log_gf,\n",
    "                      lines.species, # needs to be a Korg.Species, which we handled in the cell above\n",
    "                      lines.ExPot) # excitation potential, i.e. lower level energy (must be in eV)\n",
    ";"
   ]
  },
  {
   "cell_type": "markdown",
   "id": "9e0db71d-1010-4a39-918c-bd1ce71c2069",
   "metadata": {},
   "source": [
    "## Set up params for each star"
   ]
  },
  {
   "cell_type": "code",
   "execution_count": 4,
   "id": "69f5b674-9538-4fd8-b95e-ae6e17a0f9d8",
   "metadata": {
    "execution": {
     "iopub.execute_input": "2025-05-09T18:06:48.266Z",
     "iopub.status.busy": "2025-05-09T18:06:48.266Z",
     "iopub.status.idle": "2025-05-09T18:07:10.677Z",
     "shell.execute_reply": "2025-05-09T18:07:10.677Z"
    }
   },
   "outputs": [
    {
     "name": "stdout",
     "output_type": "stream",
     "text": [
      "Constructing cool dwarf atmosphere interpolator.  This will only happen once per process...\n"
     ]
    },
    {
     "data": {
      "text/plain": [
       "Korg.PlanarAtmosphere{Float64, Float64, Float64, Float64, Float64} with 56 layers"
      ]
     },
     "execution_count": 4,
     "metadata": {},
     "output_type": "execute_result"
    }
   ],
   "source": [
    "# solar params\n",
    "sun_Teff, sun_logg, sun_Fe_H, sun_vmic = 5777, 4.44, 0.0, 1.0\n",
    "\n",
    "# vector of abundances for the sun\n",
    "sun_A_X = Korg.format_A_X(sun_Fe_H)\n",
    "\n",
    "# interpolate a model atmosphere for the sun\n",
    "sun_atm = Korg.interpolate_marcs(sun_Teff, sun_logg, sun_A_X)  \n",
    "\n",
    "# and likewise for 18 Sco\n",
    "sco_teff, sco_logg, sco_fe_h, sco_vmic = (5823, 4.45, 0.054, sun_vmic + 0.02)\n",
    "sco_A_X = Korg.format_A_X(sco_fe_h)\n",
    "sco_atm = Korg.interpolate_marcs(sco_teff, sco_logg, sco_A_X)"
   ]
  },
  {
   "cell_type": "markdown",
   "id": "e1e6a43b-2d28-4d03-b5d3-3a1e0ef6d135",
   "metadata": {},
   "source": [
    "## Calculate the abundances for each star\n",
    "Because Julia uses \"just in time\" compilation, the first call to `Korg.Fit.ews_to_abundances` will take several seconds.  The second is much faster, because the code is already compiled.  If you rerun the cell below, both calculations will be fast, even though no data is cached."
   ]
  },
  {
   "cell_type": "code",
   "execution_count": 5,
   "id": "fc38fcb2-2bae-4fe8-af6f-c3604cc05832",
   "metadata": {
    "execution": {
     "iopub.execute_input": "2025-05-09T18:07:10.678Z",
     "iopub.status.busy": "2025-05-09T18:07:10.678Z",
     "iopub.status.idle": "2025-05-09T18:07:24.01Z",
     "shell.execute_reply": "2025-05-09T18:07:24.01Z"
    }
   },
   "outputs": [
    {
     "name": "stdout",
     "output_type": "stream",
     "text": [
      " 11.999400 seconds (83.88 M allocations: 4.660 GiB, 2.75% gc time, 91.38% compilation time)\n",
      "  1.280592 seconds (13.37 M allocations: 1.083 GiB, 3.04% gc time)\n"
     ]
    }
   ],
   "source": [
    "# calculate abundances from the EWs for each star\n",
    "@time lines.A_sun = Korg.Fit.ews_to_abundances(sun_atm, linelist, sun_A_X, lines.EW_Sun, vmic=sun_vmic)\n",
    "@time lines.A_18Sco = Korg.Fit.ews_to_abundances(sco_atm, linelist, sco_A_X, lines.EW_18Sco, vmic=sco_vmic)\n",
    ";"
   ]
  },
  {
   "cell_type": "markdown",
   "id": "31560282-f1b1-4538-a3c0-cc1961b52ecb",
   "metadata": {},
   "source": [
    "# Plot the results\n",
    "Plotting as a function of wavelength and equivalenth width is left as an excercise for the reader."
   ]
  },
  {
   "cell_type": "code",
   "execution_count": 6,
   "id": "e4acef29-6ad0-4ae3-8263-e72d5e2f4506",
   "metadata": {
    "execution": {
     "iopub.execute_input": "2025-05-09T18:07:24.01Z",
     "iopub.status.busy": "2025-05-09T18:07:24.01Z",
     "iopub.status.idle": "2025-05-09T18:07:25.189Z",
     "shell.execute_reply": "2025-05-09T18:07:25.189Z"
    }
   },
   "outputs": [
    {
     "data": {
      "image/png": "[encoded data removed]",
      "text/plain": [
       "Figure(PyObject <Figure size 800x200 with 1 Axes>)"
      ]
     },
     "metadata": {},
     "output_type": "display_data"
    }
   ],
   "source": [
    "# get a bitmask for the lines of Fe I vs Fe II\n",
    "neutrals = [spec.charge == 0 for spec in lines.species]\n",
    "\n",
    "figure(figsize=(8, 2))\n",
    "scatter(lines.ExPot[neutrals], (lines.A_18Sco - lines.A_sun)[neutrals], label=\"Fe I\")\n",
    "scatter(lines.ExPot[.! neutrals], (lines.A_18Sco - lines.A_sun)[.! neutrals], label=\"Fe II\")\n",
    "ylabel(L\"A(Fe)_\\mathrm{18 Sco} - A(Fe)_\\mathrm{sun}\")\n",
    "xlabel(\"χ [eV]\")\n",
    "legend()\n",
    ";"
   ]
  },
  {
   "cell_type": "code",
   "execution_count": null,
   "id": "a1f62ac9-37f0-4b91-809f-4de341a4b250",
   "metadata": {},
   "outputs": [],
   "source": []
  }
 ],
 "metadata": {
  "kernelspec": {
   "display_name": "Julia 1.11.5",
   "language": "julia",
   "name": "julia-1.11"
  },
  "language_info": {
   "file_extension": ".jl",
   "mimetype": "application/julia",
   "name": "julia",
   "version": "1.11.5"
  }
 },
 "nbformat": 4,
 "nbformat_minor": 5
}
