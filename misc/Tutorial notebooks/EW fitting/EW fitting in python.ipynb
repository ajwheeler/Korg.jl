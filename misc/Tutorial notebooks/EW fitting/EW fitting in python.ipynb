{
 "cells": [
  {
   "cell_type": "markdown",
   "id": "b1c9787e-781e-439f-9599-ea5c0d2f644b",
   "metadata": {},
   "source": [
    "# Equivalent width fitting\n",
    "This notebook is an example of how to go from measured equivalent widths to abundances.  We'll use the data from [Melendez 2014](https://ui.adsabs.harvard.edu/abs/2014ApJ...791...14M/abstract) and redo their differential analysis of iron lines 18 Sco. \n",
    "\n",
    "A massive thanks to Emily Griffith for helping translate this to python."
   ]
  },
  {
   "cell_type": "code",
   "execution_count": 1,
   "id": "25fa263f-d156-4a4a-ab1e-02bea37f9d9b",
   "metadata": {
    "execution": {
     "iopub.execute_input": "2024-06-26T19:09:22.850731Z",
     "iopub.status.busy": "2024-06-26T19:09:22.850385Z",
     "iopub.status.idle": "2024-06-26T19:09:26.233538Z",
     "shell.execute_reply": "2024-06-26T19:09:26.233141Z",
     "shell.execute_reply.started": "2024-06-26T19:09:22.850700Z"
    }
   },
   "outputs": [],
   "source": [
    "from matplotlib import pyplot as plt\n",
    "from juliacall import Main as jl\n",
    "import time\n",
    "import numpy as np\n",
    "import pandas as pd\n",
    "\n",
    "jl.seval(\"using Korg\")\n",
    "Korg = jl.Korg"
   ]
  },
  {
   "cell_type": "markdown",
   "id": "988c6101-cff0-4320-a444-954379815fdc",
   "metadata": {},
   "source": [
    "## parsing the linelist"
   ]
  },
  {
   "cell_type": "code",
   "execution_count": 2,
   "id": "b9e28b1e-d8e8-4749-b5e0-cc8decba9284",
   "metadata": {
    "execution": {
     "iopub.execute_input": "2024-06-26T19:09:26.234343Z",
     "iopub.status.busy": "2024-06-26T19:09:26.234216Z",
     "iopub.status.idle": "2024-06-26T19:09:26.245501Z",
     "shell.execute_reply": "2024-06-26T19:09:26.245240Z",
     "shell.execute_reply.started": "2024-06-26T19:09:26.234335Z"
    }
   },
   "outputs": [
    {
     "data": {
      "text/html": [
       "<div>\n",
       "<style scoped>\n",
       "    .dataframe tbody tr th:only-of-type {\n",
       "        vertical-align: middle;\n",
       "    }\n",
       "\n",
       "    .dataframe tbody tr th {\n",
       "        vertical-align: top;\n",
       "    }\n",
       "\n",
       "    .dataframe thead th {\n",
       "        text-align: right;\n",
       "    }\n",
       "</style>\n",
       "<table border=\"1\" class=\"dataframe\">\n",
       "  <thead>\n",
       "    <tr style=\"text-align: right;\">\n",
       "      <th></th>\n",
       "      <th>wl</th>\n",
       "      <th>species</th>\n",
       "      <th>ExPot</th>\n",
       "      <th>log_gf</th>\n",
       "      <th>C6</th>\n",
       "      <th>EW_18Sco</th>\n",
       "      <th>EW_Sun</th>\n",
       "    </tr>\n",
       "  </thead>\n",
       "  <tbody>\n",
       "    <tr>\n",
       "      <th>0</th>\n",
       "      <td>5044.211</td>\n",
       "      <td>26.0</td>\n",
       "      <td>2.8512</td>\n",
       "      <td>-2.058</td>\n",
       "      <td>2.710000e-31</td>\n",
       "      <td>74.8</td>\n",
       "      <td>74.3</td>\n",
       "    </tr>\n",
       "    <tr>\n",
       "      <th>1</th>\n",
       "      <td>5054.642</td>\n",
       "      <td>26.0</td>\n",
       "      <td>3.6400</td>\n",
       "      <td>-1.921</td>\n",
       "      <td>4.680000e-32</td>\n",
       "      <td>40.9</td>\n",
       "      <td>40.5</td>\n",
       "    </tr>\n",
       "    <tr>\n",
       "      <th>2</th>\n",
       "      <td>5127.359</td>\n",
       "      <td>26.0</td>\n",
       "      <td>0.9150</td>\n",
       "      <td>-3.307</td>\n",
       "      <td>1.840000e-32</td>\n",
       "      <td>97.5</td>\n",
       "      <td>96.1</td>\n",
       "    </tr>\n",
       "    <tr>\n",
       "      <th>3</th>\n",
       "      <td>5127.679</td>\n",
       "      <td>26.0</td>\n",
       "      <td>0.0520</td>\n",
       "      <td>-6.125</td>\n",
       "      <td>1.200000e-32</td>\n",
       "      <td>18.9</td>\n",
       "      <td>19.1</td>\n",
       "    </tr>\n",
       "    <tr>\n",
       "      <th>4</th>\n",
       "      <td>5198.711</td>\n",
       "      <td>26.0</td>\n",
       "      <td>2.2230</td>\n",
       "      <td>-2.135</td>\n",
       "      <td>4.610000e-32</td>\n",
       "      <td>99.3</td>\n",
       "      <td>98.1</td>\n",
       "    </tr>\n",
       "    <tr>\n",
       "      <th>...</th>\n",
       "      <td>...</td>\n",
       "      <td>...</td>\n",
       "      <td>...</td>\n",
       "      <td>...</td>\n",
       "      <td>...</td>\n",
       "      <td>...</td>\n",
       "      <td>...</td>\n",
       "    </tr>\n",
       "    <tr>\n",
       "      <th>318</th>\n",
       "      <td>3694.810</td>\n",
       "      <td>66.1</td>\n",
       "      <td>0.1030</td>\n",
       "      <td>-0.110</td>\n",
       "      <td>2.800000e+00</td>\n",
       "      <td>17.3</td>\n",
       "      <td>13.9</td>\n",
       "    </tr>\n",
       "    <tr>\n",
       "      <th>319</th>\n",
       "      <td>4077.970</td>\n",
       "      <td>66.1</td>\n",
       "      <td>0.1030</td>\n",
       "      <td>-0.040</td>\n",
       "      <td>2.800000e+00</td>\n",
       "      <td>14.8</td>\n",
       "      <td>10.7</td>\n",
       "    </tr>\n",
       "    <tr>\n",
       "      <th>320</th>\n",
       "      <td>4103.310</td>\n",
       "      <td>66.1</td>\n",
       "      <td>0.1030</td>\n",
       "      <td>-0.380</td>\n",
       "      <td>2.800000e+00</td>\n",
       "      <td>17.8</td>\n",
       "      <td>15.0</td>\n",
       "    </tr>\n",
       "    <tr>\n",
       "      <th>321</th>\n",
       "      <td>4449.700</td>\n",
       "      <td>66.1</td>\n",
       "      <td>0.0000</td>\n",
       "      <td>-1.030</td>\n",
       "      <td>2.800000e+00</td>\n",
       "      <td>4.3</td>\n",
       "      <td>3.3</td>\n",
       "    </tr>\n",
       "    <tr>\n",
       "      <th>322</th>\n",
       "      <td>3694.190</td>\n",
       "      <td>70.1</td>\n",
       "      <td>0.0000</td>\n",
       "      <td>-0.300</td>\n",
       "      <td>2.800000e+00</td>\n",
       "      <td>81.2</td>\n",
       "      <td>73.9</td>\n",
       "    </tr>\n",
       "  </tbody>\n",
       "</table>\n",
       "<p>323 rows × 7 columns</p>\n",
       "</div>"
      ],
      "text/plain": [
       "           wl  species   ExPot  log_gf            C6  EW_18Sco  EW_Sun\n",
       "0    5044.211     26.0  2.8512  -2.058  2.710000e-31      74.8    74.3\n",
       "1    5054.642     26.0  3.6400  -1.921  4.680000e-32      40.9    40.5\n",
       "2    5127.359     26.0  0.9150  -3.307  1.840000e-32      97.5    96.1\n",
       "3    5127.679     26.0  0.0520  -6.125  1.200000e-32      18.9    19.1\n",
       "4    5198.711     26.0  2.2230  -2.135  4.610000e-32      99.3    98.1\n",
       "..        ...      ...     ...     ...           ...       ...     ...\n",
       "318  3694.810     66.1  0.1030  -0.110  2.800000e+00      17.3    13.9\n",
       "319  4077.970     66.1  0.1030  -0.040  2.800000e+00      14.8    10.7\n",
       "320  4103.310     66.1  0.1030  -0.380  2.800000e+00      17.8    15.0\n",
       "321  4449.700     66.1  0.0000  -1.030  2.800000e+00       4.3     3.3\n",
       "322  3694.190     70.1  0.0000  -0.300  2.800000e+00      81.2    73.9\n",
       "\n",
       "[323 rows x 7 columns]"
      ]
     },
     "execution_count": 2,
     "metadata": {},
     "output_type": "execute_result"
    }
   ],
   "source": [
    "# use pandas to read the contents of Table 1, which were downloaded from the journal website\n",
    "lines = pd.read_csv(\"Table 1.dat\", delim_whitespace=True, skiprows=24,\n",
    "                    names=[\"wl\", \"species\", \"ExPot\", \"log_gf\", \"C6\", \"EW_18Sco\", \"EW_Sun\"])\n",
    "lines"
   ]
  },
  {
   "cell_type": "code",
   "execution_count": 3,
   "id": "7e400290-7608-473c-af8e-9686e8fb9a61",
   "metadata": {
    "execution": {
     "iopub.execute_input": "2024-06-26T19:09:26.246109Z",
     "iopub.status.busy": "2024-06-26T19:09:26.246021Z",
     "iopub.status.idle": "2024-06-26T19:09:27.536472Z",
     "shell.execute_reply": "2024-06-26T19:09:27.536042Z",
     "shell.execute_reply.started": "2024-06-26T19:09:26.246100Z"
    }
   },
   "outputs": [],
   "source": [
    "# convert the numbers in the species column to Korg.Species objects\n",
    "# jl.broadcast is how you use Julia's broadcasting (\".\" syntax) from python\n",
    "# this called Korg.Species on each element in the line.species column\n",
    "lines.species = jl.broadcast(Korg.Species, lines.species)\n",
    "\n"
   ]
  },
  {
   "cell_type": "code",
   "execution_count": 4,
   "id": "41af8329-f8cc-47bc-a55d-2ef9266bc52b",
   "metadata": {
    "execution": {
     "iopub.execute_input": "2024-06-26T19:09:27.538462Z",
     "iopub.status.busy": "2024-06-26T19:09:27.538349Z",
     "iopub.status.idle": "2024-06-26T19:09:28.064649Z",
     "shell.execute_reply": "2024-06-26T19:09:28.064350Z",
     "shell.execute_reply.started": "2024-06-26T19:09:27.538453Z"
    }
   },
   "outputs": [
    {
     "data": {
      "text/html": [
       "<div>\n",
       "<style scoped>\n",
       "    .dataframe tbody tr th:only-of-type {\n",
       "        vertical-align: middle;\n",
       "    }\n",
       "\n",
       "    .dataframe tbody tr th {\n",
       "        vertical-align: top;\n",
       "    }\n",
       "\n",
       "    .dataframe thead th {\n",
       "        text-align: right;\n",
       "    }\n",
       "</style>\n",
       "<table border=\"1\" class=\"dataframe\">\n",
       "  <thead>\n",
       "    <tr style=\"text-align: right;\">\n",
       "      <th></th>\n",
       "      <th>wl</th>\n",
       "      <th>species</th>\n",
       "      <th>ExPot</th>\n",
       "      <th>log_gf</th>\n",
       "      <th>C6</th>\n",
       "      <th>EW_18Sco</th>\n",
       "      <th>EW_Sun</th>\n",
       "    </tr>\n",
       "  </thead>\n",
       "  <tbody>\n",
       "    <tr>\n",
       "      <th>0</th>\n",
       "      <td>5044.211</td>\n",
       "      <td>Fe I</td>\n",
       "      <td>2.8512</td>\n",
       "      <td>-2.058</td>\n",
       "      <td>2.710000e-31</td>\n",
       "      <td>74.8</td>\n",
       "      <td>74.3</td>\n",
       "    </tr>\n",
       "    <tr>\n",
       "      <th>1</th>\n",
       "      <td>5054.642</td>\n",
       "      <td>Fe I</td>\n",
       "      <td>3.6400</td>\n",
       "      <td>-1.921</td>\n",
       "      <td>4.680000e-32</td>\n",
       "      <td>40.9</td>\n",
       "      <td>40.5</td>\n",
       "    </tr>\n",
       "    <tr>\n",
       "      <th>2</th>\n",
       "      <td>5127.359</td>\n",
       "      <td>Fe I</td>\n",
       "      <td>0.9150</td>\n",
       "      <td>-3.307</td>\n",
       "      <td>1.840000e-32</td>\n",
       "      <td>97.5</td>\n",
       "      <td>96.1</td>\n",
       "    </tr>\n",
       "    <tr>\n",
       "      <th>3</th>\n",
       "      <td>5127.679</td>\n",
       "      <td>Fe I</td>\n",
       "      <td>0.0520</td>\n",
       "      <td>-6.125</td>\n",
       "      <td>1.200000e-32</td>\n",
       "      <td>18.9</td>\n",
       "      <td>19.1</td>\n",
       "    </tr>\n",
       "    <tr>\n",
       "      <th>86</th>\n",
       "      <td>5197.577</td>\n",
       "      <td>Fe II</td>\n",
       "      <td>3.2306</td>\n",
       "      <td>-2.220</td>\n",
       "      <td>8.690000e-33</td>\n",
       "      <td>84.0</td>\n",
       "      <td>80.7</td>\n",
       "    </tr>\n",
       "    <tr>\n",
       "      <th>...</th>\n",
       "      <td>...</td>\n",
       "      <td>...</td>\n",
       "      <td>...</td>\n",
       "      <td>...</td>\n",
       "      <td>...</td>\n",
       "      <td>...</td>\n",
       "      <td>...</td>\n",
       "    </tr>\n",
       "    <tr>\n",
       "      <th>81</th>\n",
       "      <td>6810.263</td>\n",
       "      <td>Fe I</td>\n",
       "      <td>4.6070</td>\n",
       "      <td>-0.986</td>\n",
       "      <td>4.500000e-31</td>\n",
       "      <td>53.1</td>\n",
       "      <td>50.6</td>\n",
       "    </tr>\n",
       "    <tr>\n",
       "      <th>82</th>\n",
       "      <td>6837.006</td>\n",
       "      <td>Fe I</td>\n",
       "      <td>4.5930</td>\n",
       "      <td>-1.687</td>\n",
       "      <td>2.460000e-32</td>\n",
       "      <td>20.0</td>\n",
       "      <td>18.9</td>\n",
       "    </tr>\n",
       "    <tr>\n",
       "      <th>83</th>\n",
       "      <td>6839.830</td>\n",
       "      <td>Fe I</td>\n",
       "      <td>2.5590</td>\n",
       "      <td>-3.350</td>\n",
       "      <td>3.950000e-32</td>\n",
       "      <td>32.5</td>\n",
       "      <td>31.6</td>\n",
       "    </tr>\n",
       "    <tr>\n",
       "      <th>84</th>\n",
       "      <td>6843.656</td>\n",
       "      <td>Fe I</td>\n",
       "      <td>4.5480</td>\n",
       "      <td>-0.860</td>\n",
       "      <td>2.940000e-31</td>\n",
       "      <td>64.1</td>\n",
       "      <td>63.3</td>\n",
       "    </tr>\n",
       "    <tr>\n",
       "      <th>85</th>\n",
       "      <td>6858.150</td>\n",
       "      <td>Fe I</td>\n",
       "      <td>4.6070</td>\n",
       "      <td>-0.930</td>\n",
       "      <td>3.240000e-31</td>\n",
       "      <td>53.6</td>\n",
       "      <td>52.4</td>\n",
       "    </tr>\n",
       "  </tbody>\n",
       "</table>\n",
       "<p>98 rows × 7 columns</p>\n",
       "</div>"
      ],
      "text/plain": [
       "          wl species   ExPot  log_gf            C6  EW_18Sco  EW_Sun\n",
       "0   5044.211    Fe I  2.8512  -2.058  2.710000e-31      74.8    74.3\n",
       "1   5054.642    Fe I  3.6400  -1.921  4.680000e-32      40.9    40.5\n",
       "2   5127.359    Fe I  0.9150  -3.307  1.840000e-32      97.5    96.1\n",
       "3   5127.679    Fe I  0.0520  -6.125  1.200000e-32      18.9    19.1\n",
       "86  5197.577   Fe II  3.2306  -2.220  8.690000e-33      84.0    80.7\n",
       "..       ...     ...     ...     ...           ...       ...     ...\n",
       "81  6810.263    Fe I  4.6070  -0.986  4.500000e-31      53.1    50.6\n",
       "82  6837.006    Fe I  4.5930  -1.687  2.460000e-32      20.0    18.9\n",
       "83  6839.830    Fe I  2.5590  -3.350  3.950000e-32      32.5    31.6\n",
       "84  6843.656    Fe I  4.5480  -0.860  2.940000e-31      64.1    63.3\n",
       "85  6858.150    Fe I  4.6070  -0.930  3.240000e-31      53.6    52.4\n",
       "\n",
       "[98 rows x 7 columns]"
      ]
     },
     "execution_count": 4,
     "metadata": {},
     "output_type": "execute_result"
    }
   ],
   "source": [
    "# look at Fe lines only, and sort by wavelength\n",
    "is_iron = [Korg.get_atoms(s) == jl.Vector([26]) for s in lines.species]\n",
    "lines = lines.loc[is_iron]\n",
    "lines = lines.sort_values(\"wl\")\n",
    "lines"
   ]
  },
  {
   "cell_type": "code",
   "execution_count": 5,
   "id": "5b75be64-3518-45de-8f0d-9fd08ef6d2be",
   "metadata": {
    "execution": {
     "iopub.execute_input": "2024-06-26T19:09:28.065169Z",
     "iopub.status.busy": "2024-06-26T19:09:28.065088Z",
     "iopub.status.idle": "2024-06-26T19:09:28.180243Z",
     "shell.execute_reply": "2024-06-26T19:09:28.179886Z",
     "shell.execute_reply.started": "2024-06-26T19:09:28.065162Z"
    }
   },
   "outputs": [],
   "source": [
    "# to pass the lines to Korg, we need to turn each row of the \"lines\" dataframe into a Korg.Line object\n",
    "linelist = jl.broadcast(Korg.Line, lines.wl, # can be in either cm or Å (like these), but NOT nm\n",
    "                        lines.log_gf,lines.species, # needs to be a Korg.Species, which we handled in the cell above\n",
    "                        lines.ExPot)"
   ]
  },
  {
   "cell_type": "markdown",
   "id": "9e0db71d-1010-4a39-918c-bd1ce71c2069",
   "metadata": {},
   "source": [
    "## Set up params for each star"
   ]
  },
  {
   "cell_type": "code",
   "execution_count": 6,
   "id": "69f5b674-9538-4fd8-b95e-ae6e17a0f9d8",
   "metadata": {
    "execution": {
     "iopub.execute_input": "2024-06-26T19:09:28.180826Z",
     "iopub.status.busy": "2024-06-26T19:09:28.180727Z",
     "iopub.status.idle": "2024-06-26T19:09:36.323403Z",
     "shell.execute_reply": "2024-06-26T19:09:36.323100Z",
     "shell.execute_reply.started": "2024-06-26T19:09:28.180819Z"
    }
   },
   "outputs": [],
   "source": [
    "# solar params\n",
    "sun_Teff, sun_logg, sun_Fe_H, sun_vmic = 5777, 4.44, 0.0, 1.0\n",
    "\n",
    "# vector of abundances for the sun\n",
    "sun_A_X = Korg.format_A_X(sun_Fe_H)\n",
    "\n",
    "# interpolate a model atmosphere for the sun\n",
    "sun_atm = Korg.interpolate_marcs(sun_Teff, sun_logg, sun_A_X)  \n",
    "\n",
    "# and likewise for 18 Sco\n",
    "sco_teff, sco_logg, sco_fe_h, sco_vmic = (5823, 4.45, 0.054, sun_vmic + 0.02)\n",
    "sco_A_X = Korg.format_A_X(sco_fe_h)\n",
    "sco_atm = Korg.interpolate_marcs(sco_teff, sco_logg, sco_A_X)"
   ]
  },
  {
   "cell_type": "markdown",
   "id": "e1e6a43b-2d28-4d03-b5d3-3a1e0ef6d135",
   "metadata": {},
   "source": [
    "## Calculate the abundances for each star\n",
    "Because Julia uses \"just in time\" compilation, the first call to `Korg.Fit.ews_to_abundances` will take several seconds.  The second is much faster, because the code is already compiled.  If you rerun the cell below, both calculations will be fast, even though no data is cached."
   ]
  },
  {
   "cell_type": "code",
   "execution_count": 7,
   "id": "fc38fcb2-2bae-4fe8-af6f-c3604cc05832",
   "metadata": {
    "execution": {
     "iopub.execute_input": "2024-06-26T19:09:36.323891Z",
     "iopub.status.busy": "2024-06-26T19:09:36.323822Z",
     "iopub.status.idle": "2024-06-26T19:09:44.196202Z",
     "shell.execute_reply": "2024-06-26T19:09:44.195932Z",
     "shell.execute_reply.started": "2024-06-26T19:09:36.323884Z"
    }
   },
   "outputs": [
    {
     "name": "stdout",
     "output_type": "stream",
     "text": [
      "7.6071089999999995\n",
      "0.276288000000001\n"
     ]
    }
   ],
   "source": [
    "# calculate abundances from the EWs for each star\n",
    "\n",
    "# in order to pass the EWs to Korg.Fit.ews_to_abundances, we convert them to numpy arrays, which \n",
    "# are handled automatically, unlike pandas series.  We also wrap the returned julia vector in np.array.\n",
    "t1 = time.process_time()\n",
    "lines[\"A_sun\"] = np.array(Korg.Fit.ews_to_abundances(sun_atm, linelist, sun_A_X, np.array(lines.EW_Sun), vmic=sun_vmic))\n",
    "t2 = time.process_time()\n",
    "lines[\"A_18Sco\"] = np.array(Korg.Fit.ews_to_abundances(sco_atm, linelist, sco_A_X, np.array(lines.EW_18Sco), vmic=sco_vmic))\n",
    "t3 = time.process_time()\n",
    "print(t2-t1)\n",
    "print(t3-t2)"
   ]
  },
  {
   "cell_type": "markdown",
   "id": "31560282-f1b1-4538-a3c0-cc1961b52ecb",
   "metadata": {},
   "source": [
    "# Plot the results\n",
    "Plotting as a function of wavelength and equivalenth width is left as an excercise for the reader."
   ]
  },
  {
   "cell_type": "code",
   "execution_count": 8,
   "id": "836607ca-df58-4513-816a-33e09aa87739",
   "metadata": {
    "execution": {
     "iopub.execute_input": "2024-06-26T19:09:44.196685Z",
     "iopub.status.busy": "2024-06-26T19:09:44.196604Z",
     "iopub.status.idle": "2024-06-26T19:09:44.198455Z",
     "shell.execute_reply": "2024-06-26T19:09:44.198204Z",
     "shell.execute_reply.started": "2024-06-26T19:09:44.196678Z"
    }
   },
   "outputs": [],
   "source": [
    "# get a bitmask for the lines of Fe I vs Fe II\n",
    "neutrals = np.array([spec.charge == 0 for spec in lines.species])"
   ]
  },
  {
   "cell_type": "code",
   "execution_count": 9,
   "id": "e6dd0392-6ed9-4640-b22c-b67383a19910",
   "metadata": {
    "execution": {
     "iopub.execute_input": "2024-06-26T19:09:44.198824Z",
     "iopub.status.busy": "2024-06-26T19:09:44.198758Z",
     "iopub.status.idle": "2024-06-26T19:09:44.279104Z",
     "shell.execute_reply": "2024-06-26T19:09:44.278737Z",
     "shell.execute_reply.started": "2024-06-26T19:09:44.198818Z"
    }
   },
   "outputs": [
    {
     "data": {
      "text/plain": [
       "''"
      ]
     },
     "execution_count": 9,
     "metadata": {},
     "output_type": "execute_result"
    },
    {
     "data": {
      "image/png": "[encoded data removed]",
      "text/plain": [
       "<Figure size 800x200 with 1 Axes>"
      ]
     },
     "metadata": {},
     "output_type": "display_data"
    }
   ],
   "source": [
    "plt.figure(figsize=(8, 2))\n",
    "plt.scatter(lines.ExPot[neutrals], (lines.A_18Sco - lines.A_sun)[neutrals], label=\"Fe I\")\n",
    "plt.scatter(lines.ExPot[~neutrals], (lines.A_18Sco - lines.A_sun)[~neutrals], label=\"Fe II\")\n",
    "plt.ylabel(\"A(Fe)_\\mathrm{18 Sco} - A(Fe)_\\mathrm{sun}\")\n",
    "plt.xlabel(\"χ [eV]\")\n",
    "plt.legend()\n",
    ";"
   ]
  }
 ],
 "metadata": {
  "kernelspec": {
   "display_name": "Python 3 (ipykernel)",
   "language": "python",
   "name": "python3"
  },
  "language_info": {
   "codemirror_mode": {
    "name": "ipython",
    "version": 3
   },
   "file_extension": ".py",
   "mimetype": "text/x-python",
   "name": "python",
   "nbconvert_exporter": "python",
   "pygments_lexer": "ipython3",
   "version": "3.11.5"
  }
 },
 "nbformat": 4,
 "nbformat_minor": 5
}
