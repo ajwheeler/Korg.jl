{
 "cells": [
  {
   "cell_type": "markdown",
   "id": "124df484-7d11-4a8c-935e-8e38dec23cae",
   "metadata": {},
   "source": [
    "# Fitting\n",
    "In this notebook, I'll show how to use `Korg.Fit.fit_spectrum` to fit one of the spectra from [Griffith et al. 2022](https://ui.adsabs.harvard.edu/abs/2022arXiv221001821G). You will probably find it helpful to look at the [documentation for this function](https://ajwheeler.github.io/Korg.jl/stable/API/#Korg.Fit.fit_spectrum) as well. For fitting equivalent widths (rather than spectra directly) see [the documentation for `Korg.Fit.ews_to_abundances`](https://ajwheeler.github.io/Korg.jl/stable/API/#Korg.Fit.ews_to_abundances).\n",
    "\n",
    "This notebook is intended to demonstrate the usages of Korg's fitting functionality, not an ironclad spectral analysis.\n",
    "\n",
    "We'll use a few packages in addition to Korg in this notebook.  If don't have them installed, you can run `using Pkg; Pkg.add([\"CSV\", \"DataFrames\", \"PyPlot\"])` to install them."
   ]
  },
  {
   "cell_type": "code",
   "execution_count": 6,
   "id": "1cfcfdc8-27e0-4539-a53f-f1f7ef79a821",
   "metadata": {
    "execution": {
     "iopub.execute_input": "2025-03-28T14:31:11.861",
     "iopub.status.busy": "2025-03-28T14:31:11.860",
     "iopub.status.idle": "2025-03-28T14:31:11.864",
     "shell.execute_reply": "2025-03-28T14:31:11.864"
    }
   },
   "outputs": [],
   "source": [
    "using Korg, CSV, DataFrames, PyPlot"
   ]
  },
  {
   "cell_type": "markdown",
   "id": "9125007f-b9be-4d63-adc2-16a331aa7594",
   "metadata": {},
   "source": [
    "## Read in the linelist, window list, and spectrum\n",
    "\n",
    "For this example, we'll use the same linelist and windows as Griffith et al. 2022, which means reading the CSV files they are stored in and getting the data into the format expected by Korg. For other linelists options, see the documentation for [Korg's built-in linelists](https://ajwheeler.github.io/Korg.jl/stable/API/#Built-in-linelists), and [`Korg.read_linelist`](https://ajwheeler.github.io/Korg.jl/stable/API/#Korg.read_linelist)."
   ]
  },
  {
   "cell_type": "code",
   "execution_count": 2,
   "id": "c8f196fc-5a52-4fae-9f06-7eedf835e4e9",
   "metadata": {
    "execution": {
     "iopub.execute_input": "2025-03-28T14:10:01.821",
     "iopub.status.busy": "2025-03-28T14:10:01.720",
     "iopub.status.idle": "2025-03-28T14:10:03.999",
     "shell.execute_reply": "2025-03-28T14:10:03.999"
    }
   },
   "outputs": [],
   "source": [
    "# read and parse the linelist used by Griffith et al. 2022\n",
    "linetable = CSV.read(\"lines.csv\", DataFrame);\n",
    "linelist = Korg.Line.(Korg.air_to_vacuum.(linetable.wave_A),\n",
    "                      linetable.loggf,\n",
    "                      Korg.Species.(linetable.element),\n",
    "                      linetable.lower_state_eV,\n",
    "                      linetable.rad, \n",
    "                      linetable.stark, \n",
    "                      linetable.waals) \n",
    ";"
   ]
  },
  {
   "cell_type": "code",
   "execution_count": 3,
   "id": "af7d7d3e-9915-453b-8285-4e96f0bec9b8",
   "metadata": {
    "execution": {
     "iopub.execute_input": "2025-03-28T14:10:03.999",
     "iopub.status.busy": "2025-03-28T14:10:03.999",
     "iopub.status.idle": "2025-03-28T14:10:04.173",
     "shell.execute_reply": "2025-03-28T14:10:04.173"
    },
    "tags": []
   },
   "outputs": [],
   "source": [
    "# read windows into dictionary that maps atomic number -> window list\n",
    "windowtable = CSV.File(\"windows.tsv\", delim='\\t');\n",
    "windows = Dict()\n",
    "for row in windowtable\n",
    "    # atomic number\n",
    "    Z = Korg.get_atoms(Korg.Species(row.species))[1]\n",
    "    # get the windows for this element so far \n",
    "    wins = get(windows, Z, [])\n",
    "    # add the new window\n",
    "    push!(wins, (Korg.air_to_vacuum(row.wave_base * 10), Korg.air_to_vacuum(row.wave_top * 10)))\n",
    "    # update the dictionary\n",
    "    windows[Z] = wins\n",
    "end"
   ]
  },
  {
   "cell_type": "code",
   "execution_count": 4,
   "id": "021ab594-ca05-46c4-a463-14081d7b2b4a",
   "metadata": {
    "execution": {
     "iopub.execute_input": "2025-03-28T14:10:04.173",
     "iopub.status.busy": "2025-03-28T14:10:04.173",
     "iopub.status.idle": "2025-03-28T14:10:04.199",
     "shell.execute_reply": "2025-03-28T14:10:04.198"
    },
    "tags": []
   },
   "outputs": [],
   "source": [
    "# parse the observed spectrum\n",
    "spec = CSV.read(\"2MASS_J03443498+0553014.csv\", DataFrame)\n",
    "spec.waveobs = Korg.air_to_vacuum.(spec.waveobs * 10)\n",
    ";"
   ]
  },
  {
   "cell_type": "markdown",
   "id": "7ce39d76-241c-4b2e-83df-fb9d824abe5c",
   "metadata": {
    "tags": []
   },
   "source": [
    "# Get stellar params with just Fe lines\n",
    "First, we'll use the Fe windows from `windows.tsv` to fit for the stellar parameters. You may notice that the first time you run this, the `@time` macro reports a high fraction of time spent compiling.  This happens only once per session. "
   ]
  },
  {
   "cell_type": "code",
   "execution_count": 5,
   "id": "1c86f330-00f9-4c59-aacc-c20b8a64bba7",
   "metadata": {
    "execution": {
     "iopub.execute_input": "2025-03-28T14:11:47.719",
     "iopub.status.busy": "2025-03-28T14:11:47.719",
     "iopub.status.idle": "2025-03-28T14:14:02.479",
     "shell.execute_reply": "2025-03-28T14:14:02.479"
    },
    "tags": []
   },
   "outputs": [
    {
     "name": "stdout",
     "output_type": "stream",
     "text": [
      "Constructing cool dwarf atmosphere interpolator.  This will only happen once per process...\n",
      "134.671266 seconds (1.50 G allocations: 93.451 GiB, 9.43% gc time, 77.34% compilation time: <1% of which was recompilation)\n"
     ]
    }
   ],
   "source": [
    "# provide an initial guess for each parameter we want to fit\n",
    "# (This is how to construct a NamedTuple in Julia, by the way.)\n",
    "initial_guess = (;Teff=5400, logg=3.8, m_H=-1.1, vmic=1.0)\n",
    "winds = windows[26] # use Fe windows\n",
    "\n",
    "@time fit_result = Korg.Fit.fit_spectrum(spec.waveobs, spec.flux, spec.err, linelist, initial_guess; windows=winds, R=50_000)\n",
    ";"
   ]
  },
  {
   "cell_type": "markdown",
   "id": "7cf34a17-8853-4645-a33d-0478d5c10b62",
   "metadata": {},
   "source": [
    "`fit_result` is an object containing several bits of info, most importantly the best-fit parameters"
   ]
  },
  {
   "cell_type": "code",
   "execution_count": 6,
   "id": "55cfb988-06c1-4e6c-a58f-8280c4f3861a",
   "metadata": {
    "execution": {
     "iopub.execute_input": "2024-10-16T13:05:10.034",
     "iopub.status.busy": "2024-10-16T13:05:10.034",
     "iopub.status.idle": "2024-10-16T13:05:10.653",
     "shell.execute_reply": "2024-10-16T13:05:10.652"
    }
   },
   "outputs": [
    {
     "data": {
      "text/plain": [
       "Dict{String, Float64} with 4 entries:\n",
       "  \"Teff\" => 5250.17\n",
       "  \"logg\" => 3.68018\n",
       "  \"m_H\"  => -1.33611\n",
       "  \"vmic\" => 0.80091"
      ]
     },
     "execution_count": 6,
     "metadata": {},
     "output_type": "execute_result"
    }
   ],
   "source": [
    "fit_result.best_fit_params"
   ]
  },
  {
   "cell_type": "markdown",
   "id": "705ace26-34f4-4d0d-87b8-f9528f1de37b",
   "metadata": {},
   "source": [
    "It also contains the trace, which we can plot like so"
   ]
  },
  {
   "cell_type": "code",
   "execution_count": 7,
   "id": "9221d308-9794-438e-b994-546270290bd5",
   "metadata": {
    "execution": {
     "iopub.execute_input": "2024-10-16T13:05:10.653",
     "iopub.status.busy": "2024-10-16T13:05:10.653",
     "iopub.status.idle": "2024-10-16T13:05:11.756",
     "shell.execute_reply": "2024-10-16T13:05:11.756"
    },
    "tags": []
   },
   "outputs": [
    {
     "data": {
      "image/png": "[encoded data removed]",
      "text/plain": [
       "Figure(PyObject <Figure size 300x300 with 1 Axes>)"
      ]
     },
     "metadata": {},
     "output_type": "display_data"
    },
    {
     "data": {
      "image/png": "[encoded data removed]",
      "text/plain": [
       "Figure(PyObject <Figure size 300x300 with 1 Axes>)"
      ]
     },
     "metadata": {},
     "output_type": "display_data"
    }
   ],
   "source": [
    "figure(figsize=(3,3))\n",
    "plot([t[\"chi2\"] for t in fit_result.trace])\n",
    "ylabel(L\"χ^2\")\n",
    "xlabel(\"optimizer step\")\n",
    "\n",
    "figure(figsize=(3,3))\n",
    "plot([t[\"Teff\"] for t in fit_result.trace])\n",
    "ylabel(L\"$T_\\mathrm{eff}$ [K]\")\n",
    "xlabel(\"optimizer step\")\n",
    ";"
   ]
  },
  {
   "cell_type": "markdown",
   "id": "1210ed44-f8a8-468e-bca0-a428e0ece746",
   "metadata": {},
   "source": [
    "The `fit_result` object also contains the best-fit spectrum, which we can plot in comparision to the oberved one.  Rerun the cell below to plot data for different iron lines."
   ]
  },
  {
   "cell_type": "code",
   "execution_count": 8,
   "id": "a1713483-59ef-43ee-99cd-900166dbf122",
   "metadata": {
    "execution": {
     "iopub.execute_input": "2024-10-16T13:05:11.756",
     "iopub.status.busy": "2024-10-16T13:05:11.756",
     "iopub.status.idle": "2024-10-16T13:05:12.033",
     "shell.execute_reply": "2024-10-16T13:05:12.033"
    },
    "tags": []
   },
   "outputs": [
    {
     "data": {
      "image/png": "[encoded data removed]",
      "text/plain": [
       "Figure(PyObject <Figure size 640x480 with 1 Axes>)"
      ]
     },
     "metadata": {},
     "output_type": "display_data"
    },
    {
     "data": {
      "text/plain": [
       "PyObject <matplotlib.legend.Legend object at 0x354d908f0>"
      ]
     },
     "execution_count": 8,
     "metadata": {},
     "output_type": "execute_result"
    }
   ],
   "source": [
    "# get the observed spectrum only at the wavelengths within a fitting window\n",
    "obs_wls = spec.waveobs[fit_result.obs_wl_mask]\n",
    "obs_flux = spec.flux[fit_result.obs_wl_mask]\n",
    "obs_err = spec.err[fit_result.obs_wl_mask]\n",
    "\n",
    "w = rand(winds) # choose a window around a random Fe line\n",
    "\n",
    "# create a bitmask to plot the window plus 1 Å on each side for context\n",
    "mask = w[1]-1 .< obs_wls .< w[2]+1 \n",
    "\n",
    "scatter(obs_wls[mask], fit_result.best_fit_flux[mask], c=\"r\", label=\"Korg\")\n",
    "errorbar(obs_wls[mask], obs_flux[mask], yerr=obs_err[mask], ls=\"\", c=\"k\", label=\"data\")\n",
    "legend()"
   ]
  },
  {
   "cell_type": "markdown",
   "id": "6d8b3e2f-20d4-4045-a66b-452a9103f791",
   "metadata": {},
   "source": [
    "# Fit individual abundances"
   ]
  },
  {
   "cell_type": "markdown",
   "id": "b74a1b09-5f54-416e-9b37-4b16b4d5a70e",
   "metadata": {},
   "source": [
    "Let's use the stellar parameters from Griffith, rather than the ones from the analysis above. Comparing the abundances you get using each is left as an excercise to the reader."
   ]
  },
  {
   "cell_type": "code",
   "execution_count": 9,
   "id": "9e9e5fca-1919-4aa8-9027-b9a03d4fae30",
   "metadata": {
    "execution": {
     "iopub.execute_input": "2024-10-16T13:05:12.034",
     "iopub.status.busy": "2024-10-16T13:05:12.033",
     "iopub.status.idle": "2024-10-16T13:05:12.440",
     "shell.execute_reply": "2024-10-16T13:05:12.440"
    },
    "tags": []
   },
   "outputs": [
    {
     "name": "stdout",
     "output_type": "stream",
     "text": [
      "Dict(\"Teff\" => 5250.16592067555, \"logg\" => 3.6801815930457735, \"m_H\" => -1.336108181629835, \"vmic\" => 0.800910430599838)\n",
      "(Teff = 5456, logg = 3.86, m_H = -1.22, vsini = 2.4, vmic = 1.23)\n"
     ]
    }
   ],
   "source": [
    "griffith_params = (Teff = 5456, logg = 3.86, m_H = -1.22, vsini = 2.4, vmic=1.23)\n",
    "println(fit_result.best_fit_params)\n",
    "println(griffith_params)"
   ]
  },
  {
   "cell_type": "markdown",
   "id": "577540df-b411-4430-886a-183bf25bda6b",
   "metadata": {},
   "source": [
    "# find individual abundances"
   ]
  },
  {
   "cell_type": "code",
   "execution_count": 10,
   "id": "7f655d1a-82ea-41a7-b96c-b8828b5372f4",
   "metadata": {
    "execution": {
     "iopub.execute_input": "2024-10-16T13:05:12.440",
     "iopub.status.busy": "2024-10-16T13:05:12.440",
     "iopub.status.idle": "2024-10-16T13:07:04.656",
     "shell.execute_reply": "2024-10-16T13:07:04.656"
    },
    "tags": []
   },
   "outputs": [
    {
     "name": "stdout",
     "output_type": "stream",
     "text": [
      "fitting Na...\n",
      " 44.193333 seconds (781.58 M allocations: 34.463 GiB, 12.66% gc time, 92.76% compilation time)\n",
      "fitting Mg...\n",
      "  3.159460 seconds (115.07 M allocations: 6.654 GiB, 8.37% gc time, 9.26% compilation time)\n",
      "fitting Si...\n",
      "  4.036045 seconds (210.96 M allocations: 8.128 GiB, 8.34% gc time)\n",
      "fitting Ca...\n",
      "  4.757307 seconds (270.62 M allocations: 9.091 GiB, 8.44% gc time)\n",
      "fitting Sc...\n",
      "  3.590364 seconds (153.31 M allocations: 7.895 GiB, 9.04% gc time, 1.02% compilation time)\n",
      "fitting Ti...\n",
      "  8.397335 seconds (577.20 M allocations: 14.369 GiB, 7.92% gc time)\n",
      "fitting V...\n",
      "  4.037513 seconds (209.01 M allocations: 8.097 GiB, 9.17% gc time)\n",
      "fitting Cr...\n",
      "  5.091021 seconds (321.02 M allocations: 9.248 GiB, 8.27% gc time)\n",
      "fitting Mn...\n",
      "  5.954645 seconds (327.07 M allocations: 11.803 GiB, 8.68% gc time)\n",
      "fitting Fe...\n",
      " 19.004240 seconds (1.43 G allocations: 28.083 GiB, 7.80% gc time)\n",
      "fitting Co...\n",
      "  3.133594 seconds (127.66 M allocations: 6.893 GiB, 8.57% gc time)\n",
      "fitting Ni...\n",
      "  6.597521 seconds (425.36 M allocations: 11.957 GiB, 7.48% gc time)\n"
     ]
    }
   ],
   "source": [
    "elements = [\"Na\", \"Mg\", \"Si\", \"Ca\", \"Sc\", \"Ti\", \"V\", \"Cr\", \"Mn\", \"Fe\", \"Co\", \"Ni\"];\n",
    "Korg_abunds = map(elements) do element\n",
    "    println(\"fitting $(element)...\")\n",
    "        \n",
    "    # use a Dict to store initial guesses at each param instead of a NamedTuple\n",
    "    params = Dict(element=>griffith_params.m_H)\n",
    "\n",
    "    # \"params\" specifies the initial guesses at the params to fit (in this case a single elemental abundance).\n",
    "    # griffith_params specifies values which should be fixed (in this case the stellar parameters).\n",
    "    @time fit_result = Korg.Fit.fit_spectrum(spec.waveobs, spec.flux, spec.err, linelist, \n",
    "                                  params, griffith_params;\n",
    "                                  R=50_000, windows=windows[Korg.atomic_numbers[element]])\n",
    "\n",
    "    # return the best-fit abundance\n",
    "    fit_result.best_fit_params[element]\n",
    "end\n",
    ";"
   ]
  },
  {
   "cell_type": "markdown",
   "id": "ad961b3c-6d53-4c57-9490-a8f25f7137f8",
   "metadata": {},
   "source": [
    "Let's plot these in comparison to the Griffith et al. 2022 abundaces."
   ]
  },
  {
   "cell_type": "code",
   "execution_count": 11,
   "id": "e5330291-77d7-46a8-bf95-6af1e8fbf6a4",
   "metadata": {
    "execution": {
     "iopub.execute_input": "2024-10-16T13:07:04.656",
     "iopub.status.busy": "2024-10-16T13:07:04.656",
     "iopub.status.idle": "2024-10-16T13:07:04.791",
     "shell.execute_reply": "2024-10-16T13:07:04.791"
    },
    "tags": []
   },
   "outputs": [
    {
     "data": {
      "image/png": "[encoded data removed]",
      "text/plain": [
       "Figure(PyObject <Figure size 640x480 with 1 Axes>)"
      ]
     },
     "metadata": {},
     "output_type": "display_data"
    }
   ],
   "source": [
    "# The are the [X/H] values from the paper (and the errors inferred from Monte-Carlo)\n",
    "griffith_X_H = [-1.04, -0.77, -0.81, -0.86, -0.9, -0.83, -1.08, -1.21, -1.53, -1.22, -1.23, -1.13]\n",
    "griffith_X_H_err = [0.01, 0.02, 0.02, 0.02, 0.1, 0.05, 0.03, 0.03, 0.02, 0.02, 0.02, 0.02]\n",
    "\n",
    "scatter(1:length(elements), Korg_abunds, label=\"Korg\")\n",
    "errorbar(1:length(elements), griffith_X_H, yerr=griffith_X_H_err, ls=\"\", c=\"C1\")\n",
    "xticks(1:length(elements), elements)\n",
    "ylabel(\"[X/H]\")\n",
    "legend()\n",
    ";"
   ]
  }
 ],
 "metadata": {
  "kernelspec": {
   "display_name": "Julia 1.11.2",
   "language": "julia",
   "name": "julia-1.11"
  },
  "language_info": {
   "file_extension": ".jl",
   "mimetype": "application/julia",
   "name": "julia",
   "version": "1.11.2"
  }
 },
 "nbformat": 4,
 "nbformat_minor": 5
}
