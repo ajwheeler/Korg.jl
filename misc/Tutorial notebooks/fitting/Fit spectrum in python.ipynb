{
 "cells": [
  {
   "cell_type": "markdown",
   "id": "124df484-7d11-4a8c-935e-8e38dec23cae",
   "metadata": {},
   "source": [
    "# Fitting\n",
    "To get Korg installed and talking to python, see [the installation documentation](https://ajwheeler.github.io/Korg.jl/stable/install/#Using-Korg-from-Python).\n",
    "\n",
    "In this notebook, I'll show how to use `Korg.Fit.fit_spectrum` to fit one of the spectra from [Griffith et al. 2022](https://ui.adsabs.harvard.edu/abs/2022arXiv221001821G). You will probably find it helpful to look at the [documentation for this function](https://ajwheeler.github.io/Korg.jl/stable/API/#Korg.Fit.fit_spectrum) as well. For fitting equivalent widths (rather than spectra directly) see [the documentation for `Korg.Fit.ews_to_abundances`](https://ajwheeler.github.io/Korg.jl/stable/API/#Korg.Fit.ews_to_abundances). This notebook is intended to demonstrate the usages of Korg's fitting functionality, not an ironclad spectral analysis.\n",
    "\n",
    "_A massive thanks to Emily Griffith for helping to translate this notebook into Python._"
   ]
  },
  {
   "cell_type": "code",
   "execution_count": 1,
   "id": "103b9ecc-022a-46ad-840c-081df7b5192c",
   "metadata": {
    "execution": {
     "iopub.execute_input": "2024-10-16T18:38:46.033735Z",
     "iopub.status.busy": "2024-10-16T18:38:46.033639Z",
     "iopub.status.idle": "2024-10-16T18:38:49.460546Z",
     "shell.execute_reply": "2024-10-16T18:38:49.460204Z",
     "shell.execute_reply.started": "2024-10-16T18:38:46.033726Z"
    }
   },
   "outputs": [
    {
     "name": "stdout",
     "output_type": "stream",
     "text": [
      "Detected IPython. Loading juliacall extension. See https://juliapy.github.io/PythonCall.jl/stable/compat/#IPython\n"
     ]
    }
   ],
   "source": [
    "from matplotlib import pyplot as plt\n",
    "from juliacall import Main as jl\n",
    "import time\n",
    "import random\n",
    "import numpy as np\n",
    "import pandas as pd\n",
    "\n",
    "jl.seval(\"using Korg\")\n",
    "Korg = jl.Korg"
   ]
  },
  {
   "cell_type": "markdown",
   "id": "9125007f-b9be-4d63-adc2-16a331aa7594",
   "metadata": {},
   "source": [
    "## Read in the linelist, window list, and spectrum\n",
    "\n",
    "For this example, we'll use the same linelist and windows as Griffith et al. 2022, which means reading the CSV files they are stored in and getting the data into the format expected by Korg."
   ]
  },
  {
   "cell_type": "code",
   "execution_count": 2,
   "id": "926d9d94-5b44-40cc-8549-d66e47a7b7d8",
   "metadata": {
    "execution": {
     "iopub.execute_input": "2024-10-16T18:38:49.461133Z",
     "iopub.status.busy": "2024-10-16T18:38:49.461005Z",
     "iopub.status.idle": "2024-10-16T18:38:49.514159Z",
     "shell.execute_reply": "2024-10-16T18:38:49.513846Z",
     "shell.execute_reply.started": "2024-10-16T18:38:49.461124Z"
    }
   },
   "outputs": [],
   "source": [
    "# read and parse the linelist used by Griffith et al. 2022\n",
    "linetable = pd.read_csv(\"lines.csv\");\n",
    "\n",
    "# filter out the H lines. (Korg has these built-in)\n",
    "linetable = linetable[linetable.element != \"H 1\"]"
   ]
  },
  {
   "cell_type": "code",
   "execution_count": 3,
   "id": "8fc42173-da34-467e-9317-cbf0870b29a3",
   "metadata": {
    "execution": {
     "iopub.execute_input": "2024-10-16T18:38:49.514616Z",
     "iopub.status.busy": "2024-10-16T18:38:49.514521Z",
     "iopub.status.idle": "2024-10-16T18:38:51.027138Z",
     "shell.execute_reply": "2024-10-16T18:38:51.026825Z",
     "shell.execute_reply.started": "2024-10-16T18:38:49.514607Z"
    }
   },
   "outputs": [],
   "source": [
    "linelist = jl.broadcast(Korg.Line, \n",
    "                        jl.broadcast(Korg.air_to_vacuum,linetable.wave_A),\n",
    "                        linetable.loggf,\n",
    "                        jl.broadcast(Korg.Species,linetable.element),\n",
    "                        linetable.lower_state_eV,\n",
    "                        linetable.rad,\n",
    "                        linetable.stark,\n",
    "                        linetable.waals)\n"
   ]
  },
  {
   "cell_type": "code",
   "execution_count": 4,
   "id": "68d0d407-bcca-423a-a822-e132134bd7ba",
   "metadata": {
    "execution": {
     "iopub.execute_input": "2024-10-16T18:38:51.028363Z",
     "iopub.status.busy": "2024-10-16T18:38:51.028268Z",
     "iopub.status.idle": "2024-10-16T18:38:51.032048Z",
     "shell.execute_reply": "2024-10-16T18:38:51.031790Z",
     "shell.execute_reply.started": "2024-10-16T18:38:51.028354Z"
    },
    "tags": []
   },
   "outputs": [],
   "source": [
    "# read windows into dictionary that maps atomic number -> window list\n",
    "windowtable = pd.read_csv(\"windows.tsv\", delimiter='\\t');"
   ]
  },
  {
   "cell_type": "code",
   "execution_count": 5,
   "id": "a8048c5b-30ef-4373-ab81-c03caf46c81e",
   "metadata": {
    "execution": {
     "iopub.execute_input": "2024-10-16T18:38:51.032443Z",
     "iopub.status.busy": "2024-10-16T18:38:51.032363Z",
     "iopub.status.idle": "2024-10-16T18:38:51.038605Z",
     "shell.execute_reply": "2024-10-16T18:38:51.038388Z",
     "shell.execute_reply.started": "2024-10-16T18:38:51.032435Z"
    }
   },
   "outputs": [
    {
     "data": {
      "text/html": [
       "<div>\n",
       "<style scoped>\n",
       "    .dataframe tbody tr th:only-of-type {\n",
       "        vertical-align: middle;\n",
       "    }\n",
       "\n",
       "    .dataframe tbody tr th {\n",
       "        vertical-align: top;\n",
       "    }\n",
       "\n",
       "    .dataframe thead th {\n",
       "        text-align: right;\n",
       "    }\n",
       "</style>\n",
       "<table border=\"1\" class=\"dataframe\">\n",
       "  <thead>\n",
       "    <tr style=\"text-align: right;\">\n",
       "      <th></th>\n",
       "      <th>wave_peak</th>\n",
       "      <th>wave_base</th>\n",
       "      <th>wave_top</th>\n",
       "      <th>species</th>\n",
       "    </tr>\n",
       "  </thead>\n",
       "  <tbody>\n",
       "    <tr>\n",
       "      <th>0</th>\n",
       "      <td>424.6822</td>\n",
       "      <td>424.6522</td>\n",
       "      <td>424.7122</td>\n",
       "      <td>Sc 2</td>\n",
       "    </tr>\n",
       "    <tr>\n",
       "      <th>1</th>\n",
       "      <td>432.0732</td>\n",
       "      <td>432.0432</td>\n",
       "      <td>432.1032</td>\n",
       "      <td>Sc 2</td>\n",
       "    </tr>\n",
       "    <tr>\n",
       "      <th>2</th>\n",
       "      <td>432.0950</td>\n",
       "      <td>432.0650</td>\n",
       "      <td>432.1250</td>\n",
       "      <td>Ti 2</td>\n",
       "    </tr>\n",
       "    <tr>\n",
       "      <th>3</th>\n",
       "      <td>433.1642</td>\n",
       "      <td>433.1342</td>\n",
       "      <td>433.1942</td>\n",
       "      <td>Ni 1</td>\n",
       "    </tr>\n",
       "    <tr>\n",
       "      <th>4</th>\n",
       "      <td>433.7046</td>\n",
       "      <td>433.6746</td>\n",
       "      <td>433.7346</td>\n",
       "      <td>Fe 1</td>\n",
       "    </tr>\n",
       "    <tr>\n",
       "      <th>...</th>\n",
       "      <td>...</td>\n",
       "      <td>...</td>\n",
       "      <td>...</td>\n",
       "      <td>...</td>\n",
       "    </tr>\n",
       "    <tr>\n",
       "      <th>395</th>\n",
       "      <td>625.2555</td>\n",
       "      <td>625.2255</td>\n",
       "      <td>625.2855</td>\n",
       "      <td>Fe 1</td>\n",
       "    </tr>\n",
       "    <tr>\n",
       "      <th>396</th>\n",
       "      <td>625.8102</td>\n",
       "      <td>625.7802</td>\n",
       "      <td>625.8402</td>\n",
       "      <td>Ti 1</td>\n",
       "    </tr>\n",
       "    <tr>\n",
       "      <th>397</th>\n",
       "      <td>625.8707</td>\n",
       "      <td>625.8407</td>\n",
       "      <td>625.9007</td>\n",
       "      <td>Ti 1</td>\n",
       "    </tr>\n",
       "    <tr>\n",
       "      <th>398</th>\n",
       "      <td>626.5132</td>\n",
       "      <td>626.4832</td>\n",
       "      <td>626.5432</td>\n",
       "      <td>Fe 1</td>\n",
       "    </tr>\n",
       "    <tr>\n",
       "      <th>399</th>\n",
       "      <td>627.0223</td>\n",
       "      <td>626.9923</td>\n",
       "      <td>627.0523</td>\n",
       "      <td>Fe 1</td>\n",
       "    </tr>\n",
       "  </tbody>\n",
       "</table>\n",
       "<p>400 rows × 4 columns</p>\n",
       "</div>"
      ],
      "text/plain": [
       "     wave_peak  wave_base  wave_top species\n",
       "0     424.6822   424.6522  424.7122    Sc 2\n",
       "1     432.0732   432.0432  432.1032    Sc 2\n",
       "2     432.0950   432.0650  432.1250    Ti 2\n",
       "3     433.1642   433.1342  433.1942    Ni 1\n",
       "4     433.7046   433.6746  433.7346    Fe 1\n",
       "..         ...        ...       ...     ...\n",
       "395   625.2555   625.2255  625.2855    Fe 1\n",
       "396   625.8102   625.7802  625.8402    Ti 1\n",
       "397   625.8707   625.8407  625.9007    Ti 1\n",
       "398   626.5132   626.4832  626.5432    Fe 1\n",
       "399   627.0223   626.9923  627.0523    Fe 1\n",
       "\n",
       "[400 rows x 4 columns]"
      ]
     },
     "execution_count": 5,
     "metadata": {},
     "output_type": "execute_result"
    }
   ],
   "source": [
    "windowtable"
   ]
  },
  {
   "cell_type": "code",
   "execution_count": 6,
   "id": "6c36cffe-e0e6-417d-8b24-af86cf195329",
   "metadata": {
    "execution": {
     "iopub.execute_input": "2024-10-16T18:38:51.039120Z",
     "iopub.status.busy": "2024-10-16T18:38:51.039009Z",
     "iopub.status.idle": "2024-10-16T18:38:51.194293Z",
     "shell.execute_reply": "2024-10-16T18:38:51.194012Z",
     "shell.execute_reply.started": "2024-10-16T18:38:51.039109Z"
    },
    "tags": []
   },
   "outputs": [],
   "source": [
    "windows = {}\n",
    "for i, row in windowtable.iterrows():\n",
    "    # atomic number\n",
    "    Z = Korg.get_atoms(Korg.Species(row.species))[0]\n",
    "    # get the windows for this element so far \n",
    "    wins = windows.get(Z, [])\n",
    "    # add the new window\n",
    "    wins.append((Korg.air_to_vacuum(row.wave_base * 10), Korg.air_to_vacuum(row.wave_top * 10)))\n",
    "    # update the dictionary\n",
    "    windows[Z] = wins"
   ]
  },
  {
   "cell_type": "code",
   "execution_count": 7,
   "id": "276ec08e-0d8e-4b48-865e-4cc6f0be4c32",
   "metadata": {
    "execution": {
     "iopub.execute_input": "2024-10-16T18:38:51.194792Z",
     "iopub.status.busy": "2024-10-16T18:38:51.194698Z",
     "iopub.status.idle": "2024-10-16T18:38:51.328911Z",
     "shell.execute_reply": "2024-10-16T18:38:51.328620Z",
     "shell.execute_reply.started": "2024-10-16T18:38:51.194783Z"
    },
    "tags": []
   },
   "outputs": [],
   "source": [
    "# parse the observed spectrum\n",
    "spec = pd.read_csv(\"2MASS_J03443498+0553014.csv\", delimiter=\"\\t\")\n",
    "\n",
    "# juliacall deals better with numpy arrays than pandas series, so we will work with those\n",
    "flux = np.array(spec.flux)\n",
    "err = np.array(spec.err)\n",
    "waveobs = np.array(jl.broadcast(Korg.air_to_vacuum, spec.waveobs * 10))"
   ]
  },
  {
   "cell_type": "markdown",
   "id": "7ce39d76-241c-4b2e-83df-fb9d824abe5c",
   "metadata": {
    "tags": []
   },
   "source": [
    "# Get stellar params with just Fe lines\n",
    "First, we'll use the Fe windows from `windows.tsv` to fit for the stellar parameters. You may notice that the first time you run this, it takes a minute.  This is because Julia is compiling the function. This happens only once per session. "
   ]
  },
  {
   "cell_type": "code",
   "execution_count": 8,
   "id": "1c86f330-00f9-4c59-aacc-c20b8a64bba7",
   "metadata": {
    "execution": {
     "iopub.execute_input": "2024-10-16T18:38:51.329501Z",
     "iopub.status.busy": "2024-10-16T18:38:51.329367Z",
     "iopub.status.idle": "2024-10-16T18:41:46.919716Z",
     "shell.execute_reply": "2024-10-16T18:41:46.919398Z",
     "shell.execute_reply.started": "2024-10-16T18:38:51.329492Z"
    },
    "tags": []
   },
   "outputs": [
    {
     "name": "stdout",
     "output_type": "stream",
     "text": [
      "Constructing cool dwarf atmosphere interpolator.  This will only happen once...\n"
     ]
    },
    {
     "data": {
      "text/plain": [
       "''"
      ]
     },
     "execution_count": 8,
     "metadata": {},
     "output_type": "execute_result"
    }
   ],
   "source": [
    "# provide an initial guess for each parameter we want to fit\n",
    "# (This is how to construct a NamedTuple in Julia, by the way.)\n",
    "initial_guess = dict(Teff=5400, logg=3.8, m_H=-1.1, vmic=1.0)\n",
    "winds = windows[26] # use Fe windows\n",
    "\n",
    "# In this example, we'll pass the spectral resolution R and let Korg take care of the line spread function automatically\n",
    "# Below, I'll show how to speed things up by calculating it ahead of time.\n",
    "fit_result = Korg.Fit.fit_spectrum(waveobs, flux, err, linelist, initial_guess, windows=winds, R=50_000)\n",
    ";"
   ]
  },
  {
   "cell_type": "markdown",
   "id": "7cf34a17-8853-4645-a33d-0478d5c10b62",
   "metadata": {},
   "source": [
    "`fit_result` is an object containing several bits of info, most importantly the best-fit parameters"
   ]
  },
  {
   "cell_type": "code",
   "execution_count": 9,
   "id": "55cfb988-06c1-4e6c-a58f-8280c4f3861a",
   "metadata": {
    "execution": {
     "iopub.execute_input": "2024-10-16T18:41:46.920294Z",
     "iopub.status.busy": "2024-10-16T18:41:46.920189Z",
     "iopub.status.idle": "2024-10-16T18:41:47.165306Z",
     "shell.execute_reply": "2024-10-16T18:41:47.164981Z",
     "shell.execute_reply.started": "2024-10-16T18:41:46.920284Z"
    }
   },
   "outputs": [
    {
     "data": {
      "text/plain": [
       "Dict{String, Float64} with 4 entries:\n",
       "  \"Teff\" => 5250.17\n",
       "  \"logg\" => 3.68018\n",
       "  \"m_H\"  => -1.33611\n",
       "  \"vmic\" => 0.80091"
      ]
     },
     "execution_count": 9,
     "metadata": {},
     "output_type": "execute_result"
    }
   ],
   "source": [
    "fit_result.best_fit_params"
   ]
  },
  {
   "cell_type": "markdown",
   "id": "705ace26-34f4-4d0d-87b8-f9528f1de37b",
   "metadata": {},
   "source": [
    "It also contains the trace, which we can plot like so"
   ]
  },
  {
   "cell_type": "code",
   "execution_count": 10,
   "id": "9221d308-9794-438e-b994-546270290bd5",
   "metadata": {
    "execution": {
     "iopub.execute_input": "2024-10-16T18:41:47.165851Z",
     "iopub.status.busy": "2024-10-16T18:41:47.165757Z",
     "iopub.status.idle": "2024-10-16T18:41:47.372655Z",
     "shell.execute_reply": "2024-10-16T18:41:47.372377Z",
     "shell.execute_reply.started": "2024-10-16T18:41:47.165842Z"
    },
    "tags": []
   },
   "outputs": [
    {
     "data": {
      "text/plain": [
       "''"
      ]
     },
     "execution_count": 10,
     "metadata": {},
     "output_type": "execute_result"
    },
    {
     "data": {
      "image/png": "[encoded data removed]",
      "text/plain": [
       "<Figure size 300x300 with 1 Axes>"
      ]
     },
     "metadata": {},
     "output_type": "display_data"
    },
    {
     "data": {
      "image/png": "[encoded data removed]",
      "text/plain": [
       "<Figure size 300x300 with 1 Axes>"
      ]
     },
     "metadata": {},
     "output_type": "display_data"
    }
   ],
   "source": [
    "plt.figure(figsize=(3,3))\n",
    "plt.plot([t[\"chi2\"] for t in fit_result.trace])\n",
    "plt.ylabel(\"χ^2\")\n",
    "plt.xlabel(\"optimizer step\")\n",
    "\n",
    "plt.figure(figsize=(3,3))\n",
    "plt.plot([t[\"Teff\"] for t in fit_result.trace])\n",
    "plt.ylabel(\"$T_\\mathrm{eff}$ [K]\")\n",
    "plt.xlabel(\"optimizer step\")\n",
    ";"
   ]
  },
  {
   "cell_type": "markdown",
   "id": "1210ed44-f8a8-468e-bca0-a428e0ece746",
   "metadata": {},
   "source": [
    "The `fit_result` object also contains the best-fit spectrum, which we can plot in comparision to the oberved one.  Rerun the cell below to plot data for different iron lines."
   ]
  },
  {
   "cell_type": "code",
   "execution_count": 11,
   "id": "a1713483-59ef-43ee-99cd-900166dbf122",
   "metadata": {
    "execution": {
     "iopub.execute_input": "2024-10-16T18:41:47.373080Z",
     "iopub.status.busy": "2024-10-16T18:41:47.372998Z",
     "iopub.status.idle": "2024-10-16T18:41:47.445712Z",
     "shell.execute_reply": "2024-10-16T18:41:47.445462Z",
     "shell.execute_reply.started": "2024-10-16T18:41:47.373072Z"
    },
    "tags": []
   },
   "outputs": [
    {
     "data": {
      "text/plain": [
       "<matplotlib.legend.Legend at 0x3198d2fa0>"
      ]
     },
     "execution_count": 11,
     "metadata": {},
     "output_type": "execute_result"
    },
    {
     "data": {
      "image/png": "[encoded data removed]",
      "text/plain": [
       "<Figure size 640x480 with 1 Axes>"
      ]
     },
     "metadata": {},
     "output_type": "display_data"
    }
   ],
   "source": [
    "# get the observed spectrum only at the wavelengths within a fitting window\n",
    "obsmask = np.array(fit_result.obs_wl_mask)\n",
    "obs_wls = waveobs[obsmask]\n",
    "obs_flux = flux[obsmask]\n",
    "obs_err = err[obsmask]\n",
    "\n",
    "w = random.choice(winds) # choose a window around a random Fe line\n",
    "\n",
    "# create a bitmask to plot the window plus 1 Å on each side for context\n",
    "mask = np.array((w[0]-1 < obs_wls) & (obs_wls < w[1]+1))\n",
    "\n",
    "plt.scatter(obs_wls[mask], np.array(fit_result.best_fit_flux)[mask], c=\"r\", label=\"Korg\")\n",
    "plt.errorbar(obs_wls[mask], obs_flux[mask], yerr=obs_err[mask], ls=\"\", c=\"k\", label=\"data\")\n",
    "plt.legend()"
   ]
  },
  {
   "cell_type": "markdown",
   "id": "6d8b3e2f-20d4-4045-a66b-452a9103f791",
   "metadata": {},
   "source": [
    "# Fit individual abundances"
   ]
  },
  {
   "cell_type": "markdown",
   "id": "b74a1b09-5f54-416e-9b37-4b16b4d5a70e",
   "metadata": {},
   "source": [
    "Let's use the stellar parameters from Griffith, rather than the ones from the analysis above. Comparing the abundances you get using each is left as an excercise to the reader."
   ]
  },
  {
   "cell_type": "code",
   "execution_count": 12,
   "id": "9e9e5fca-1919-4aa8-9027-b9a03d4fae30",
   "metadata": {
    "execution": {
     "iopub.execute_input": "2024-10-16T18:41:47.446135Z",
     "iopub.status.busy": "2024-10-16T18:41:47.446052Z",
     "iopub.status.idle": "2024-10-16T18:41:47.471580Z",
     "shell.execute_reply": "2024-10-16T18:41:47.471291Z",
     "shell.execute_reply.started": "2024-10-16T18:41:47.446127Z"
    },
    "tags": []
   },
   "outputs": [
    {
     "name": "stdout",
     "output_type": "stream",
     "text": [
      "{'Teff': 5250.16592067437, 'logg': 3.680181593044974, 'm_H': -1.3361081816309186, 'vmic': 0.800910430596209}\n",
      "{'Teff': 5456, 'logg': 3.86, 'm_H': -1.22, 'vsini': 2.4, 'vmic': 1.23}\n"
     ]
    }
   ],
   "source": [
    "griffith_params = dict(Teff = 5456, logg = 3.86, m_H = -1.22, vsini = 2.4, vmic=1.23)\n",
    "print(dict(fit_result.best_fit_params))\n",
    "print(griffith_params)"
   ]
  },
  {
   "cell_type": "markdown",
   "id": "577540df-b411-4430-886a-183bf25bda6b",
   "metadata": {},
   "source": [
    "# find individual abundances"
   ]
  },
  {
   "cell_type": "code",
   "execution_count": 13,
   "id": "2226d48e-23a0-48f7-b5b5-d6575f3144b7",
   "metadata": {
    "execution": {
     "iopub.execute_input": "2024-10-16T18:41:47.473425Z",
     "iopub.status.busy": "2024-10-16T18:41:47.473323Z",
     "iopub.status.idle": "2024-10-16T18:41:47.475878Z",
     "shell.execute_reply": "2024-10-16T18:41:47.475642Z",
     "shell.execute_reply.started": "2024-10-16T18:41:47.473417Z"
    }
   },
   "outputs": [],
   "source": [
    "def best_fit_abundance(element):\n",
    "    print(\"fitting %s...\" % (element))\n",
    "        \n",
    "    # use a Dict to store initial guesses at each param instead of a NamedTuple\n",
    "    params = {element: griffith_params[\"m_H\"]}\n",
    "\n",
    "    # \"params\" specifies the initial guesses at the params to fit (in this case a single elemental abundance).\n",
    "    # griffith_params specifies values which should be fixed (in this case the stellar parameters).\n",
    "    t = time.process_time()\n",
    "    fit_result = Korg.Fit.fit_spectrum(waveobs, flux, err, linelist, params, griffith_params, R=50_000, \n",
    "                                       windows=windows[Korg.atomic_numbers[element]])\n",
    "    print(time.process_time() - t, \" seconds\")\n",
    "\n",
    "    # return the best-fit abundance\n",
    "    return fit_result.best_fit_params[element]\n"
   ]
  },
  {
   "cell_type": "code",
   "execution_count": 14,
   "id": "be6eec55-c649-4b7f-8983-7c244dfe5a19",
   "metadata": {
    "execution": {
     "iopub.execute_input": "2024-10-16T18:41:47.476397Z",
     "iopub.status.busy": "2024-10-16T18:41:47.476278Z",
     "iopub.status.idle": "2024-10-16T18:43:41.762378Z",
     "shell.execute_reply": "2024-10-16T18:43:41.762057Z",
     "shell.execute_reply.started": "2024-10-16T18:41:47.476388Z"
    }
   },
   "outputs": [
    {
     "name": "stdout",
     "output_type": "stream",
     "text": [
      "fitting Na...\n",
      "44.822507  seconds\n",
      "fitting Mg...\n",
      "3.194837999999976  seconds\n",
      "fitting Si...\n",
      "4.025540000000007  seconds\n",
      "fitting Ca...\n",
      "4.762095000000016  seconds\n",
      "fitting Sc...\n",
      "3.604332999999997  seconds\n",
      "fitting Ti...\n",
      "8.453653000000003  seconds\n",
      "fitting V...\n",
      "4.066030999999981  seconds\n",
      "fitting Cr...\n",
      "5.34638799999999  seconds\n",
      "fitting Mn...\n",
      "6.269929999999988  seconds\n",
      "fitting Fe...\n",
      "19.770866000000012  seconds\n",
      "fitting Co...\n",
      "3.239651999999978  seconds\n",
      "fitting Ni...\n",
      "6.838389999999947  seconds\n"
     ]
    }
   ],
   "source": [
    "elements = [\"Na\", \"Mg\", \"Si\", \"Ca\", \"Sc\", \"Ti\", \"V\", \"Cr\", \"Mn\", \"Fe\", \"Co\", \"Ni\"]\n",
    "Korg_abunds = [best_fit_abundance(e) for e in elements]"
   ]
  },
  {
   "cell_type": "markdown",
   "id": "ad961b3c-6d53-4c57-9490-a8f25f7137f8",
   "metadata": {},
   "source": [
    "Let's plot these in comparison to the Griffith et al. 2022 abundaces."
   ]
  },
  {
   "cell_type": "code",
   "execution_count": 15,
   "id": "e5330291-77d7-46a8-bf95-6af1e8fbf6a4",
   "metadata": {
    "execution": {
     "iopub.execute_input": "2024-10-16T18:43:41.762957Z",
     "iopub.status.busy": "2024-10-16T18:43:41.762861Z",
     "iopub.status.idle": "2024-10-16T18:43:41.828807Z",
     "shell.execute_reply": "2024-10-16T18:43:41.828525Z",
     "shell.execute_reply.started": "2024-10-16T18:43:41.762949Z"
    },
    "tags": []
   },
   "outputs": [
    {
     "data": {
      "text/plain": [
       "<matplotlib.legend.Legend at 0x319eb9250>"
      ]
     },
     "execution_count": 15,
     "metadata": {},
     "output_type": "execute_result"
    },
    {
     "data": {
      "image/png": "[encoded data removed]",
      "text/plain": [
       "<Figure size 640x480 with 1 Axes>"
      ]
     },
     "metadata": {},
     "output_type": "display_data"
    }
   ],
   "source": [
    "# The are the [X/H] values from the paper (and the errors inferred from Monte-Carlo)\n",
    "griffith_X_H = [-1.04, -0.77, -0.81, -0.86, -0.9, -0.83, -1.08, -1.21, -1.53, -1.22, -1.23, -1.13]\n",
    "griffith_X_H_err = [0.01, 0.02, 0.02, 0.02, 0.1, 0.05, 0.03, 0.03, 0.02, 0.02, 0.02, 0.02]\n",
    "\n",
    "plt.scatter(range(len(elements)), Korg_abunds, label=\"Korg\")\n",
    "plt.errorbar(range(len(elements)), griffith_X_H, yerr=griffith_X_H_err, ls=\"\", c=\"C1\")\n",
    "plt.xticks(range(len(elements)), elements)\n",
    "plt.ylabel(\"[X/H]\")\n",
    "plt.legend()\n"
   ]
  },
  {
   "cell_type": "code",
   "execution_count": null,
   "id": "9529ed78-a8f0-4114-b462-6143632b31f7",
   "metadata": {},
   "outputs": [],
   "source": []
  }
 ],
 "metadata": {
  "kernelspec": {
   "display_name": "Python 3 (ipykernel)",
   "language": "python",
   "name": "python3"
  },
  "language_info": {
   "codemirror_mode": {
    "name": "ipython",
    "version": 3
   },
   "file_extension": ".py",
   "mimetype": "text/x-python",
   "name": "python",
   "nbconvert_exporter": "python",
   "pygments_lexer": "ipython3",
   "version": "3.9.6"
  }
 },
 "nbformat": 4,
 "nbformat_minor": 5
}
