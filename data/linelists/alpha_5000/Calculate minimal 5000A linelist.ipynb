{
 "cells": [
  {
   "cell_type": "code",
   "execution_count": 1,
   "id": "2abac3c2-83f5-4686-a767-90498f9630c6",
   "metadata": {
    "execution": {
     "iopub.execute_input": "2024-07-10T09:59:49.895",
     "iopub.status.busy": "2024-07-10T09:59:49.665",
     "iopub.status.idle": "2024-07-10T10:01:12.548",
     "shell.execute_reply": "2024-07-10T10:01:12.419"
    }
   },
   "outputs": [
    {
     "name": "stderr",
     "output_type": "stream",
     "text": [
      "\u001b[32m\u001b[1mPrecompiling\u001b[22m\u001b[39m Korg\n",
      "\u001b[32m  ✓ \u001b[39mKorg\n",
      "  1 dependency successfully precompiled in 62 seconds. 141 already precompiled.\n"
     ]
    }
   ],
   "source": [
    "using PyPlot, Revise, Korg, BenchmarkTools, ProgressMeter"
   ]
  },
  {
   "cell_type": "code",
   "execution_count": 2,
   "id": "e8d3f4c2-dea5-46d0-9cee-5f6154e0af28",
   "metadata": {
    "execution": {
     "iopub.execute_input": "2024-07-10T10:01:12.696",
     "iopub.status.busy": "2024-07-10T10:01:12.607",
     "iopub.status.idle": "2024-07-10T10:01:42.834",
     "shell.execute_reply": "2024-07-10T10:01:42.833"
    }
   },
   "outputs": [
    {
     "name": "stderr",
     "output_type": "stream",
     "text": [
      "\u001b[33m\u001b[1m┌ \u001b[22m\u001b[39m\u001b[33m\u001b[1mWarning: \u001b[22m\u001b[39mThis function is may fail on some systems. See https://github.com/ajwheeler/Korg.jl/issues/309 for details.\n",
      "\u001b[33m\u001b[1m└ \u001b[22m\u001b[39m\u001b[90m@ Korg ~/Dropbox/Korg/src/linelist.jl:619\u001b[39m\n"
     ]
    }
   ],
   "source": [
    "geslines = Korg.get_GES_linelist();"
   ]
  },
  {
   "cell_type": "code",
   "execution_count": 19,
   "id": "f77e26f2-7a07-4a29-a84d-b22ec684296d",
   "metadata": {
    "execution": {
     "iopub.execute_input": "2024-07-10T10:03:51.625",
     "iopub.status.busy": "2024-07-10T10:03:51.624",
     "iopub.status.idle": "2024-07-10T10:03:51.925",
     "shell.execute_reply": "2024-07-10T10:03:51.925"
    }
   },
   "outputs": [
    {
     "data": {
      "text/plain": [
       "274383"
      ]
     },
     "execution_count": 19,
     "metadata": {},
     "output_type": "execute_result"
    }
   ],
   "source": [
    "alllines = filter(geslines) do line\n",
    "    4980 < line.wl*1e8 < 5020\n",
    "end\n",
    "length(alllines)"
   ]
  },
  {
   "cell_type": "code",
   "execution_count": 20,
   "id": "e0eea3f3-0ab9-4024-a253-015ec07f3395",
   "metadata": {
    "execution": {
     "iopub.execute_input": "2024-07-10T10:03:53.220",
     "iopub.status.busy": "2024-07-10T10:03:53.220",
     "iopub.status.idle": "2024-07-10T10:03:53.239",
     "shell.execute_reply": "2024-07-10T10:03:53.238"
    }
   },
   "outputs": [],
   "source": [
    "A_X = format_A_X()\n",
    "atm = interpolate_marcs(3000, 4.5, A_X)\n",
    ";"
   ]
  },
  {
   "cell_type": "code",
   "execution_count": 21,
   "id": "25e70306-ae0e-412d-8285-5e3c8f17f8b2",
   "metadata": {
    "execution": {
     "iopub.execute_input": "2024-07-10T10:03:53.607",
     "iopub.status.busy": "2024-07-10T10:03:53.606",
     "iopub.status.idle": "2024-07-10T10:03:54.005",
     "shell.execute_reply": "2024-07-10T10:03:54.004"
    }
   },
   "outputs": [],
   "source": [
    "cntmsol = synthesize(atm, [], A_X, 5000, 5000)\n",
    "α_cntm = [_->a for a in copy(cntmsol.alpha)] # lambda per layer\n",
    "n_dicts = [Dict(k => cntmsol.number_densities[k][i] for k in keys(cntmsol.number_densities)) for i in 1:56]\n",
    ";"
   ]
  },
  {
   "cell_type": "code",
   "execution_count": 22,
   "id": "888bc80c-dad2-4ace-95bb-db14e5aa9c46",
   "metadata": {
    "execution": {
     "iopub.execute_input": "2024-07-10T10:03:54.075",
     "iopub.status.busy": "2024-07-10T10:03:54.075",
     "iopub.status.idle": "2024-07-10T10:04:03.735",
     "shell.execute_reply": "2024-07-10T10:04:03.735"
    }
   },
   "outputs": [
    {
     "name": "stderr",
     "output_type": "stream",
     "text": [
      "\u001b[32mProgress: 100%|█████████████████████████████████████████| Time: 0:00:09\u001b[39m\n"
     ]
    }
   ],
   "source": [
    "max_alpha_ratio = @showprogress map(alllines) do line\n",
    "    α = zeros(size(cntmsol.alpha))\n",
    "    \n",
    "    Korg.line_absorption!(α, [line], [5e-5:1e-10:5e-5], Korg.get_temps(atm), \n",
    "                          cntmsol.electron_number_density, cntmsol.number_densities,\n",
    "                          Korg.default_partition_funcs, 1e5, α_cntm, cutoff_threshold=1e-30)\n",
    "    maximum(α ./ cntmsol.alpha)\n",
    "end\n",
    ";"
   ]
  },
  {
   "cell_type": "code",
   "execution_count": 23,
   "id": "c66c5e1d-e358-489a-b17f-38c8271f1888",
   "metadata": {
    "execution": {
     "iopub.execute_input": "2024-07-10T10:04:03.735",
     "iopub.status.busy": "2024-07-10T10:04:03.735",
     "iopub.status.idle": "2024-07-10T10:04:03.873",
     "shell.execute_reply": "2024-07-10T10:04:03.873"
    }
   },
   "outputs": [
    {
     "data": {
      "image/png": "[encoded data removed]",
      "text/plain": [
       "Figure(PyObject <Figure size 640x480 with 1 Axes>)"
      ]
     },
     "metadata": {},
     "output_type": "display_data"
    }
   ],
   "source": [
    "hist(log10.(max_alpha_ratio), bins=30)\n",
    "yscale(\"log\")"
   ]
  },
  {
   "cell_type": "code",
   "execution_count": 25,
   "id": "9ed10488-1d1a-487b-a46b-9a9af3cf57b5",
   "metadata": {
    "execution": {
     "iopub.execute_input": "2024-07-10T10:04:03.887",
     "iopub.status.busy": "2024-07-10T10:04:03.887",
     "iopub.status.idle": "2024-07-10T10:04:04.089",
     "shell.execute_reply": "2024-07-10T10:04:04.089"
    }
   },
   "outputs": [
    {
     "data": {
      "text/plain": [
       "409-element Vector{Korg.Line{Float64, Float64, Float64, Float64, Float64, Float64}}:\n",
       " Fe I 4980.080886 Å (log gf = -0.95)\n",
       " Ni I 4981.555577 Å (log gf = 0.07)\n",
       " Ti I 4983.120493 Å (log gf = 0.57)\n",
       " Fe I 4983.889597 Å (log gf = 0.16)\n",
       " Na I 4984.204281 Å (log gf = -0.92)\n",
       " Fe I 4984.640797 Å (log gf = -0.12)\n",
       " Fe I 4985.243157 Å (log gf = -0.01)\n",
       " Ni I 4985.506927 Å (log gf = 0.31)\n",
       " Fe I 4986.643729 Å (log gf = -0.45)\n",
       " Fe I 4986.937707 Å (log gf = -1.33)\n",
       " Fe I 4987.613787 Å (log gf = -1.29)\n",
       " Nd I 4990.031829 Å (log gf = -0.03)\n",
       " Fe I 4990.341712 Å (log gf = -0.89)\n",
       " ⋮\n",
       " Ni I 5012.335856 Å (log gf = -0.68)\n",
       " Fe I 5013.466157 Å (log gf = -2.64)\n",
       " Fe I 5013.55518 Å (log gf = -0.98)\n",
       " Ni I 5013.836155 Å (log gf = -0.53)\n",
       " Fe I 5013.839156 Å (log gf = -1.11)\n",
       " Ti I 5014.678379 Å (log gf = 0.12)\n",
       " Cr I 5014.711388 Å (log gf = -0.77)\n",
       " Ti I 5015.58472 Å (log gf = -1.22)\n",
       " Ti I 5015.674844 Å (log gf = 0.04)\n",
       " Fe I 5016.341221 Å (log gf = -0.18)\n",
       " Ti I 5017.560045 Å (log gf = -0.48)\n",
       " Ni I 5018.967519 Å (log gf = -0.02)"
      ]
     },
     "execution_count": 25,
     "metadata": {},
     "output_type": "execute_result"
    }
   ],
   "source": [
    "fewerlines = alllines[max_alpha_ratio .> 1e-5]"
   ]
  },
  {
   "cell_type": "code",
   "execution_count": 31,
   "id": "5cd4b9a2-1730-45f2-b720-4b495a8fe715",
   "metadata": {
    "execution": {
     "iopub.execute_input": "2024-07-10T10:04:48.161",
     "iopub.status.busy": "2024-07-10T10:04:48.161",
     "iopub.status.idle": "2024-07-10T10:04:48.385",
     "shell.execute_reply": "2024-07-10T10:04:48.385"
    }
   },
   "outputs": [
    {
     "data": {
      "text/plain": [
       "19-element Vector{Korg.Species}:\n",
       " Fe I\n",
       " Ni I\n",
       " Ti I\n",
       " Na I\n",
       " Nd I\n",
       " Ca I\n",
       " HMg\n",
       " Ce I\n",
       " OV\n",
       " OZr\n",
       " Mn I\n",
       " HSi\n",
       " Nd II\n",
       " Cr I\n",
       " OTi\n",
       " CN\n",
       " Sc I\n",
       " V I\n",
       " Si I"
      ]
     },
     "execution_count": 31,
     "metadata": {},
     "output_type": "execute_result"
    }
   ],
   "source": [
    "unique(line.species for line in fewerlines)"
   ]
  },
  {
   "cell_type": "code",
   "execution_count": 32,
   "id": "92eaf2ea-5662-4a37-8663-d666eb015e62",
   "metadata": {
    "execution": {
     "iopub.execute_input": "2024-07-10T10:07:16.196",
     "iopub.status.busy": "2024-07-10T10:07:16.196",
     "iopub.status.idle": "2024-07-10T10:07:57.168",
     "shell.execute_reply": "2024-07-10T10:07:57.168"
    }
   },
   "outputs": [
    {
     "name": "stdout",
     "output_type": "stream",
     "text": [
      "  570.051 ms (1189632 allocations: 455.80 MiB)\n",
      "  275.157 ms (784570 allocations: 411.18 MiB)\n",
      "  272.153 ms (783340 allocations: 411.04 MiB)\n"
     ]
    }
   ],
   "source": [
    "@btime solall = synthesize(atm, alllines, A_X, 5000, 5000)\n",
    "@btime solfewer = synthesize(atm, fewerlines, A_X, 5000, 5000)\n",
    "@btime synthesize(atm, [], A_X, 5000, 5000)\n",
    ";"
   ]
  },
  {
   "cell_type": "code",
   "execution_count": 27,
   "id": "f875f6b5-f3e3-4636-a49d-c19d8b0e780b",
   "metadata": {
    "execution": {
     "iopub.execute_input": "2024-07-10T10:04:05.334",
     "iopub.status.busy": "2024-07-10T10:04:05.334",
     "iopub.status.idle": "2024-07-10T10:04:05.348",
     "shell.execute_reply": "2024-07-10T10:04:05.347"
    }
   },
   "outputs": [
    {
     "data": {
      "text/plain": [
       "1×2 Matrix{Float64}:\n",
       " 0.808612  0.808632"
      ]
     },
     "execution_count": 27,
     "metadata": {},
     "output_type": "execute_result"
    }
   ],
   "source": [
    "[solall.flux/solall.cntm solfewer.flux./solfewer.cntm]"
   ]
  },
  {
   "cell_type": "code",
   "execution_count": 28,
   "id": "3258538f-26dd-46c0-860d-9de82e0fabbb",
   "metadata": {
    "execution": {
     "iopub.execute_input": "2024-07-10T10:04:05.348",
     "iopub.status.busy": "2024-07-10T10:04:05.348",
     "iopub.status.idle": "2024-07-10T10:04:05.361",
     "shell.execute_reply": "2024-07-10T10:04:05.361"
    }
   },
   "outputs": [
    {
     "data": {
      "text/plain": [
       "1×2 Matrix{Float64}:\n",
       " 1.43755e13  1.43759e13"
      ]
     },
     "execution_count": 28,
     "metadata": {},
     "output_type": "execute_result"
    }
   ],
   "source": [
    "[solall.flux solfewer.flux]"
   ]
  },
  {
   "cell_type": "markdown",
   "id": "5123da19-057d-4525-b4fc-d21243b7b4bc",
   "metadata": {},
   "source": [
    "# save lines"
   ]
  },
  {
   "cell_type": "code",
   "execution_count": 44,
   "id": "2cfcef83-3d3b-449b-95cc-8193a584ee1f",
   "metadata": {
    "execution": {
     "iopub.execute_input": "2024-07-10T13:49:53.613",
     "iopub.status.busy": "2024-07-10T13:49:53.613",
     "iopub.status.idle": "2024-07-10T13:49:54.483",
     "shell.execute_reply": "2024-07-10T13:49:54.483"
    }
   },
   "outputs": [],
   "source": [
    "using CSV, DataFrames"
   ]
  },
  {
   "cell_type": "code",
   "execution_count": 54,
   "id": "661a4c72-1876-471e-b092-35b7bfd8a99e",
   "metadata": {
    "execution": {
     "iopub.execute_input": "2024-07-10T14:19:33.135",
     "iopub.status.busy": "2024-07-10T14:19:33.135",
     "iopub.status.idle": "2024-07-10T14:19:33.257",
     "shell.execute_reply": "2024-07-10T14:19:33.257"
    }
   },
   "outputs": [
    {
     "data": {
      "text/plain": [
       "\"alpha_5000_lines.csv\""
      ]
     },
     "execution_count": 54,
     "metadata": {},
     "output_type": "execute_result"
    }
   ],
   "source": [
    "df = DataFrame(\n",
    "    wl=[line.wl for line in fewerlines],\n",
    "    log_gf=[line.log_gf for line in fewerlines],\n",
    "    species=[string(line.species) for line in fewerlines],\n",
    "    E_lower=[line.E_lower for line in fewerlines],\n",
    "    gamma_rad=[line.gamma_rad for line in fewerlines],\n",
    "    gamma_stark=[line.gamma_stark for line in fewerlines],\n",
    "    vdW=[line.vdW for line in fewerlines]\n",
    "    )\n",
    "    \n",
    "CSV.write(\"alpha_5000_lines.csv\", df)"
   ]
  },
  {
   "cell_type": "code",
   "execution_count": 71,
   "id": "9af819a1-6da8-420a-8c37-f1eb24933319",
   "metadata": {
    "execution": {
     "iopub.execute_input": "2024-07-10T14:47:23.824",
     "iopub.status.busy": "2024-07-10T14:47:23.820",
     "iopub.status.idle": "2024-07-10T14:47:35.338",
     "shell.execute_reply": "2024-07-10T14:47:35.338"
    }
   },
   "outputs": [
    {
     "name": "stdout",
     "output_type": "stream",
     "text": [
      "  1.121 ms (16186 allocations: 794.00 KiB)\n"
     ]
    },
    {
     "data": {
      "text/plain": [
       "409-element Vector{Korg.Line{Float64, Float64, Float64, Float64, Float64, Float64}}:\n",
       " Fe I 4980.080886 Å (log gf = -0.95)\n",
       " Ni I 4981.555577 Å (log gf = 0.07)\n",
       " Ti I 4983.120493 Å (log gf = 0.57)\n",
       " Fe I 4983.889597 Å (log gf = 0.16)\n",
       " Na I 4984.204281 Å (log gf = -0.92)\n",
       " Fe I 4984.640797 Å (log gf = -0.12)\n",
       " Fe I 4985.243157 Å (log gf = -0.01)\n",
       " Ni I 4985.506927 Å (log gf = 0.31)\n",
       " Fe I 4986.643729 Å (log gf = -0.45)\n",
       " Fe I 4986.937707 Å (log gf = -1.33)\n",
       " Fe I 4987.613787 Å (log gf = -1.29)\n",
       " Nd I 4990.031829 Å (log gf = -0.03)\n",
       " Fe I 4990.341712 Å (log gf = -0.89)\n",
       " ⋮\n",
       " Ni I 5012.335856 Å (log gf = -0.68)\n",
       " Fe I 5013.466157 Å (log gf = -2.64)\n",
       " Fe I 5013.55518 Å (log gf = -0.98)\n",
       " Ni I 5013.836155 Å (log gf = -0.53)\n",
       " Fe I 5013.839156 Å (log gf = -1.11)\n",
       " Ti I 5014.678379 Å (log gf = 0.12)\n",
       " Cr I 5014.711388 Å (log gf = -0.77)\n",
       " Ti I 5015.58472 Å (log gf = -1.22)\n",
       " Ti I 5015.674844 Å (log gf = 0.04)\n",
       " Fe I 5016.341221 Å (log gf = -0.18)\n",
       " Ti I 5017.560045 Å (log gf = -0.48)\n",
       " Ni I 5018.967519 Å (log gf = -0.02)"
      ]
     },
     "execution_count": 71,
     "metadata": {},
     "output_type": "execute_result"
    }
   ],
   "source": [
    "@btime Korg._load_alpha_5000_linelist()"
   ]
  },
  {
   "cell_type": "code",
   "execution_count": null,
   "id": "a29980de-909a-41d0-8efd-7b5de870c026",
   "metadata": {},
   "outputs": [],
   "source": []
  }
 ],
 "metadata": {
  "kernelspec": {
   "display_name": "Julia 1.10.3",
   "language": "julia",
   "name": "julia-1.10"
  },
  "language_info": {
   "file_extension": ".jl",
   "mimetype": "application/julia",
   "name": "julia",
   "version": "1.10.3"
  }
 },
 "nbformat": 4,
 "nbformat_minor": 5
}
