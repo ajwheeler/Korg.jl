{
 "cells": [
  {
   "cell_type": "markdown",
   "source": [
    "You may have to execute these cells to see the plot outputs TODO"
   ],
   "metadata": {}
  },
  {
   "cell_type": "markdown",
   "source": [
    "First, we'll import the necessary packages."
   ],
   "metadata": {}
  },
  {
   "outputs": [],
   "cell_type": "code",
   "source": [
    "    using Korg, PythonPlot"
   ],
   "metadata": {},
   "execution_count": 1
  },
  {
   "cell_type": "markdown",
   "source": [
    "When you import with `using`, a few functions are imported directly into the namespace\n",
    "(`synth`, `synthesize`, `interpolate_marcs`, `format_A_X`).  All\n",
    "other need to be accessed with the `Korg` prefix, e.g. `Korg.air_to_vacuum`.\n",
    "These examples use the PythonPlot package, which provides a nice Julia interface to Matplotlib,\n",
    "but of course you can plot however you like."
   ],
   "metadata": {}
  },
  {
   "cell_type": "markdown",
   "source": [
    "# Synthesizing a spectrum the easy way: `synth`\n",
    "Synthesizing a spectrum is easy!"
   ],
   "metadata": {}
  },
  {
   "outputs": [
    {
     "name": "stdout",
     "output_type": "stream",
     "text": [
      "Constructing cool dwarf atmosphere interpolator.  This will only happen once per process...\n"
     ]
    },
    {
     "output_type": "execute_result",
     "data": {
      "text/plain": "Python: Text(0, 0.5, 'Flux')"
     },
     "metadata": {},
     "execution_count": 2
    }
   ],
   "cell_type": "code",
   "source": [
    "λs, flux, cntm = synth(; Teff=5777, logg=4.44, wavelengths=(5000, 5050))\n",
    "plot(λs, flux, \"k-\")\n",
    "xlabel(\"λ [Å]\")\n",
    "ylabel(\"Flux\")"
   ],
   "metadata": {},
   "execution_count": 2
  },
  {
   "cell_type": "markdown",
   "source": [
    "The `synth` function is a one-stop shop for synthesizing a spectrum.  It takes many keyword\n",
    "arguments, but the only required ones are `Teff` (the effective temperature in Kelvin) and `logg`\n",
    "(the log surface gravity in cgs units).  Korg will automatically construct the model atmosphere\n",
    "by interpolating from its built-in grid of MARCS model atmospheres (taking abundances, as well as\n",
    "`Teff` and `logg`, into account).\n",
    "\n",
    "Julia is just-in-time compiled, which means that the first time in each session you call a method\n",
    "(e.g. `synth`), the code will be compiled, which can take several seconds.  The time you call a\n",
    "method, it may be slow, with lots of time devoted to compilation. When you call it a second time,\n",
    "it's much faster, because no code needs to be compiled. Note that no data is being cached an\n",
    "re-used here. Try calling `synth` again (changing the parameters if you like) to see the speedup.\n",
    "\n",
    "You probably want to be able to control more than just the effective temperature, surface gravity,\n",
    "and wavelength range. Let's go over some of the other things you can set when calling\n",
    "`synth`.\n",
    "\n",
    "## Choose a linelist\n",
    "\n",
    "A \"linelist\" is a list of atomic and molecular transitions to be included in the synthetic\n",
    "spectrum.  Korg supports the VALD, MOOG, Kurucz, and ExoMol format linelists (see\n",
    "`Korg.read_linelist`, `Korg.load_ExoMol_linelist`).\n",
    "It also has several built-in for convenience:\n",
    "   - `Korg.get_VALD_solar_linelist` for the Sun from 3000 to 9000 Å\n",
    "   - `Korg.get_APOGEE_DR17_linelist` for latest APOGEE linelist\n",
    "   - `Korg.get_GALAH_DR3_linelist` for the GALAH DR3 and DR4 linelist\n",
    "   - `Korg.get_GES_linelist` for the Gaia ESO survey linelist\n",
    "\n",
    "Each linelist is a vector of `Korg.Line` objects, but you don't need to worry about details if you\n",
    "just want to pass it into Korg."
   ],
   "metadata": {}
  },
  {
   "outputs": [
    {
     "output_type": "execute_result",
     "data": {
      "text/plain": "41821-element Vector{Korg.Line{Float64, Float64, Float64, Float64, Float64, Float64}}:\n Fe I 3000.0414 Å (log gf = -2.96, χ = 3.3 eV)\n Fe I 3000.0639 Å (log gf = -0.96, χ = 2.43 eV)\n V I 3000.1011 Å (log gf = -0.48, χ = 1.19 eV)\n Cr II 3000.1718 Å (log gf = -1.49, χ = 3.86 eV)\n Fe I 3000.198 Å (log gf = -3.06, χ = 3.27 eV)\n Ta II 3000.2515 Å (log gf = 0.7, χ = 1.8 eV)\n Fe I 3000.2891 Å (log gf = -2.81, χ = 2.28 eV)\n Ce II 3000.3084 Å (log gf = -1.25, χ = 0.45 eV)\n Fe I 3000.3177 Å (log gf = -3.99, χ = 3.0 eV)\n Ce II 3000.3556 Å (log gf = -0.96, χ = 0.54 eV)\n ⋮\n Fe I 8987.3527 Å (log gf = -0.92, χ = 5.1 eV)\n Fe I 8989.6036 Å (log gf = -2.27, χ = 4.99 eV)\n Mg I 8991.4958 Å (log gf = -2.47, χ = 5.93 eV)\n Ti I 8991.9147 Å (log gf = -1.56, χ = 1.73 eV)\n Fe II 8992.8729 Å (log gf = -2.5, χ = 6.23 eV)\n Mg I 8994.1606 Å (log gf = -2.0, χ = 5.93 eV)\n Si I 8995.8143 Å (log gf = -2.08, χ = 6.22 eV)\n Fe I 8997.0972 Å (log gf = -3.19, χ = 3.27 eV)\n Mg I 8999.623 Å (log gf = -1.77, χ = 5.93 eV)"
     },
     "metadata": {},
     "execution_count": 3
    }
   ],
   "cell_type": "code",
   "source": [
    "vald_lines = Korg.get_VALD_solar_linelist() # lines for the Sun from 3000 to 9000 Å"
   ],
   "metadata": {},
   "execution_count": 3
  },
  {
   "cell_type": "markdown",
   "source": [
    "## Specifying abundances\n",
    "\n",
    "To specify the abundances for a synthesis, the `M_H` and `alpha_H` keyword arguments specify the\n",
    "default metallicity and alpha enhancement, respectively.  To specify the hydrogen-relative,\n",
    "abundances of individual elements, pass their atomic symbol as a keyword argument to `synth`.\n",
    "There are unavoidable subtleties in abundance notation, so see section TODO for the messy details.\n",
    "For now, just know that the \"metallicity\" of a given mixture is not necessarily the same as the\n",
    "input `M_H` keyword argument, depending on how \"metallicity\" is defined.\n",
    "\n",
    "Let's synthesize another spectrum with the linelist we've selected, and with specific abundances.\n",
    "We'll also demonstrate a few more keyword arguments to `synth`, but\n",
    "you can read the docs for more."
   ],
   "metadata": {}
  },
  {
   "outputs": [
    {
     "output_type": "execute_result",
     "data": {
      "text/plain": "Python: Text(0, 0.5, 'Flux')"
     },
     "metadata": {},
     "execution_count": 4
    }
   ],
   "cell_type": "code",
   "source": [
    "λs, flux, cntm = synth(; Teff=5777, logg=4.44, wavelengths=(5000, 5050), # what we had before\n",
    "                       linelist=vald_lines, # use the linelist we selected\n",
    "                       M_H=-1.1, alpha_H=-1.0, # metal-poor, mildy alpha-enhanced star\n",
    "                       C=-0.5, # [C/H] = -0.5 dex (carbon enhanced)\n",
    "                       R=20000, # Simulate and LSF with resolving power, R = λ/Δλ of 20,000\n",
    "                       vsini=7, # projected rotational velocity of 7 km/s\n",
    "                       vmic=2) # microturbulence of 2 km/s\n",
    "plot(λs, flux, \"k-\")\n",
    "xlabel(\"λ [Å]\")\n",
    "ylabel(\"Flux\")"
   ],
   "metadata": {},
   "execution_count": 4
  },
  {
   "cell_type": "markdown",
   "source": [
    "# Going deeper: `synthesize`\n",
    "\n",
    "The `synth` function provides a convenient interface that aims to cover most use cases,\n",
    "but in some circumstances you might want more control. The `synthesize` function is the\n",
    "more low-level function upon which `synth` is built. `synthesize` has a few\n",
    "required arguments.  Its signature is:\n",
    "\n",
    "    synthesize(atm, linelist, A_X, wavelengths...; kwargs...)\n",
    "\n",
    "`synthesize` takes a model atmosphere, a linelist, a vector of abundances, and parameter\n",
    "specifying the wavelengths to use as required arguments. We've covered linelists above, so let's\n",
    "take abundances and model atmospheres in turn.\n",
    "\n",
    "## Abundances\n",
    "\n",
    "For the sake of unambiguousness, `synthesize` takes a vector of abundances, `A_X`, as an\n",
    "for all elements from H to U. Note that unlike the `synth` function (by default), these\n",
    "are _not_ solar relative. They are in \"standard\" $A(X)$ format,\n",
    "$A(X) = \\log_{10} \\left( \\frac{n_X}{n_H} \\right)$.\n",
    "You can of course construct this vector yourself, but it's often easier to use the\n",
    "`format_A_X` function to do it for you.\n",
    "The interface for `format_A_X` is similar to that of `synth`, but a tiny bit more\n",
    "explicit.  Instead of specifying abundances of individual elements with keyword arguments,\n",
    "we pass a dictionary of element symbols and abundances."
   ],
   "metadata": {}
  },
  {
   "outputs": [
    {
     "output_type": "execute_result",
     "data": {
      "text/plain": "92-element Vector{Float64}:\n 12.0\n 10.922\n  1.04\n  1.21\n  2.7\n  8.51\n  7.94\n  8.76\n  4.4\n  8.15\n  ⋮\n -5.0\n -5.0\n -5.0\n -5.0\n -5.0\n -5.0\n  0.09\n -5.0\n -0.5"
     },
     "metadata": {},
     "execution_count": 5
    }
   ],
   "cell_type": "code",
   "source": [
    "metal_poor_A_X = format_A_X(-0.5) # [M/H] = -1/2\n",
    "alpha_rich_A_X = format_A_X(0, 0.5) # all [M/H] = 0, but [alpha/H] = 0.5]\n",
    "Ni_enriched_A_X = format_A_X(Dict(\"Ni\" => 1.0)) # all [M/H] = 0, except [Ni/H] = 1.0"
   ],
   "metadata": {},
   "execution_count": 5
  },
  {
   "cell_type": "markdown",
   "source": [
    "## Model Atmosphere\n",
    "\n",
    "As mentioned above, Korg can interpolate from a grid of MARCS model atmospheres that it is shipped\n",
    "with using the `interpolate_marcs` function. These are primarilly\n",
    "[those generated for the Sloan Digital Sky Survey (SDSS)](https://www.sdss4.org/dr17/irspec/apogee-libraries/),\n",
    "but they grid has been augmented with more atmospheres at lower metallicities.\n",
    "See the docs for more details on the models and how they get\n",
    "interpolated. We can create a model atmosphere object to pass to `synthesize` like this:"
   ],
   "metadata": {}
  },
  {
   "outputs": [
    {
     "output_type": "execute_result",
     "data": {
      "text/plain": "Korg.PlanarAtmosphere{Float64, Float64, Float64, Float64, Float64} with 56 layers"
     },
     "metadata": {},
     "execution_count": 6
    }
   ],
   "cell_type": "code",
   "source": [
    "atm = interpolate_marcs(5777, 4.44, Ni_enriched_A_X) # solar Teff and logg, Ni-enriched abundances"
   ],
   "metadata": {},
   "execution_count": 6
  },
  {
   "cell_type": "markdown",
   "source": [
    "Korg will look at your abundance vector and translate it into the approriate parameters for the\n",
    "atmosphere grid.  It's possible to bypass this and specify the abundance parameters directly, but\n",
    "it's easy to mess up and not recommended.\n",
    "\n",
    "If you have a model atmosphere file you want to use instead of Korg's internal grid, you can read\n",
    "it in with `Korg.read_model_atmosphere`."
   ],
   "metadata": {}
  },
  {
   "cell_type": "markdown",
   "source": [
    "## Putting it all together\n",
    "\n",
    "Now we can synthesize a stellar spectrum, by passing the linelist and atmosphere to\n",
    "`synthesize`, along with upper and lower wavelengths (in Å). Korg uses wavelengths *in\n",
    "vacuo*, but you can use `Korg.air_to_vacuum` and `Korg.vacuum_to_air` to convert\n",
    "back and forth."
   ],
   "metadata": {}
  },
  {
   "outputs": [],
   "cell_type": "code",
   "source": [
    "res = synthesize(atm, vald_lines, format_A_X(0), 4000, 4030);"
   ],
   "metadata": {},
   "execution_count": 7
  },
  {
   "cell_type": "markdown",
   "source": [
    "The object returned by `synthesize` is a `Korg.SynthesisResult`, which contains\n",
    "lots of information. As for `synth`, the wavelengths, flux, and continuum are available,\n",
    " though note that in a\n",
    "`Korg.SynthesisResult`, the flux has not had the continuum divided out (i.e. the spectrum\n",
    "has not been continuum normalized, or rectified)."
   ],
   "metadata": {}
  },
  {
   "outputs": [
    {
     "output_type": "execute_result",
     "data": {
      "text/plain": "Python: Text(0, 0.5, 'flux [erg/s/cm^4/Å]')"
     },
     "metadata": {},
     "execution_count": 8
    }
   ],
   "cell_type": "code",
   "source": [
    "plot(res.wavelengths, res.flux, \"k-\") # \"./\" is how you do element-wise division in Julia\n",
    "xlabel(L\"$\\lambda$ [Å]\")\n",
    "ylabel(\"flux [erg/s/cm^4/Å]\")"
   ],
   "metadata": {},
   "execution_count": 8
  },
  {
   "cell_type": "markdown",
   "source": [
    "## per-species number densities\n",
    "\n",
    "One of the peices of information in a `Korg.SynthesisResult` is the per-species number\n",
    "densities, which are are stored as a dictionary mapping `Korg.Species` objects to arrays\n",
    "with one entry for each layer in the model atmosphere."
   ],
   "metadata": {}
  },
  {
   "outputs": [
    {
     "output_type": "execute_result",
     "data": {
      "text/plain": "Python: Text(0, 0.5, '$n$ [cm$^{-3}$]')"
     },
     "metadata": {},
     "execution_count": 9
    }
   ],
   "cell_type": "code",
   "source": [
    "temps = Korg.get_temps(atm)\n",
    "#These strings represent different species. Below, we pass them to Korg.Species to construct a Species object.\n",
    "for spec in [\"H I\", \"H II\", \"O I\", \"OH\"]\n",
    "    plot(temps, res.number_densities[Korg.Species(spec)]; label=spec)\n",
    "end\n",
    "\n",
    "legend()\n",
    "yscale(\"log\")\n",
    "xlabel(L\"$T$ [K]\")\n",
    "ylabel(L\"$n$ [cm$^{-3}$]\")"
   ],
   "metadata": {},
   "execution_count": 9
  },
  {
   "cell_type": "markdown",
   "source": [
    "## the absorption coefficient\n",
    "Another peices of information in a `Korg.SynthesisResult` is the absorption coefficient,\n",
    "α, in units of cm^-1."
   ],
   "metadata": {}
  },
  {
   "outputs": [],
   "cell_type": "code",
   "source": [
    "plot(res.wavelengths, res.alpha'); # res.alpha' is the adjoint of res.alpha.\n",
    "yscale(\"log\")\n",
    "xlabel(L\"$\\lambda$ [Å]\")\n",
    "ylabel(L\"$\\alpha$ [cm$^{-1}$]\");"
   ],
   "metadata": {},
   "execution_count": 10
  },
  {
   "cell_type": "markdown",
   "source": [
    "# Post-processing your spectrum\n",
    "TODO LSF\n",
    "TODO rotation"
   ],
   "metadata": {}
  }
 ],
 "nbformat_minor": 3,
 "metadata": {
  "language_info": {
   "file_extension": ".jl",
   "mimetype": "application/julia",
   "name": "julia",
   "version": "1.11.6"
  },
  "kernelspec": {
   "name": "julia-1.11",
   "display_name": "Julia 1.11.6",
   "language": "julia"
  }
 },
 "nbformat": 4
}
