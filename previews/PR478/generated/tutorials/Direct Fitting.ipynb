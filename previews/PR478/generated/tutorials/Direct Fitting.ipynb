{
 "cells": [
  {
   "cell_type": "markdown",
   "source": [
    "You may have to execute these cells to see the plot outputs"
   ],
   "metadata": {}
  },
  {
   "cell_type": "markdown",
   "source": [
    "# Fitting \"via synthesis\" (direct fitting)\n",
    "\n",
    "In this example, we'll show how to use `Korg.Fit.fit_spectrum` to fit one of the spectra from\n",
    "[Griffith et al. 2022](https://ui.adsabs.harvard.edu/abs/2022arXiv221001821G). You will probably\n",
    "find it helpful to look at the [documentation for this\n",
    "function](https://ajwheeler.github.io/Korg.jl/stable/API/#Korg.Fit.fit_spectrum) as well. For\n",
    "fitting equivalent widths (rather than spectra directly) see [the documentation for\n",
    "`Korg.Fit.ews_to_abundances`](https://ajwheeler.github.io/Korg.jl/stable/API/#Korg.Fit.ews_to_abundances).\n",
    "\n",
    "This example is intended to demonstrate the usages of Korg's fitting functionality, not an\n",
    "ironclad spectral analysis.\n",
    "\n",
    "We'll use a few packages in addition to Korg in this example.  If don't have them installed, you\n",
    "can run `using Pkg; Pkg.add([\"CSV\", \"DataFrames\", \"PyPlot\"])` to install them."
   ],
   "metadata": {}
  },
  {
   "outputs": [],
   "cell_type": "code",
   "source": [
    "    using Korg, PythonPlot, CSV, DataFrames"
   ],
   "metadata": {},
   "execution_count": 1
  },
  {
   "cell_type": "markdown",
   "source": [
    "## Reading in the data\n",
    "First, we need to read in the linelist, \"window list\" (the locations of lines to be fit), and\n",
    "spectrum.\n",
    "\n",
    "For this example, we'll use the same linelist and windows as Griffith et al. 2022, which means\n",
    "reading the CSV files they are stored in and getting the data into the format expected by Korg.\n",
    "For other linelists options, see the documentation for [Korg's built-in\n",
    "linelists](https://ajwheeler.github.io/Korg.jl/stable/API/#Built-in-linelists), and\n",
    "[`Korg.read_linelist`](https://ajwheeler.github.io/Korg.jl/stable/API/#Korg.read_linelist)."
   ],
   "metadata": {}
  },
  {
   "cell_type": "markdown",
   "source": [
    "TODO"
   ],
   "metadata": {}
  }
 ],
 "nbformat_minor": 3,
 "metadata": {
  "language_info": {
   "file_extension": ".jl",
   "mimetype": "application/julia",
   "name": "julia",
   "version": "1.11.6"
  },
  "kernelspec": {
   "name": "julia-1.11",
   "display_name": "Julia 1.11.6",
   "language": "julia"
  }
 },
 "nbformat": 4
}
