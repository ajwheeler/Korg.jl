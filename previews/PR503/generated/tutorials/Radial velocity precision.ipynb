{
 "cells": [
  {
   "cell_type": "markdown",
   "source": [
    "This notebook demonstrates how to compute theoretical bounds on RV-precision given a synthetic\n",
    "spectrum and an LSF.  Korg has a few functions that make this easier, based on [Bouchy et al.\n",
    "2001, A&A, 374, 733](https://ui.adsabs.harvard.edu/abs/2001A%26A...374..733B/abstract)."
   ],
   "metadata": {}
  },
  {
   "cell_type": "markdown",
   "source": [
    "In addition to Korg, we'll use `PythonPlot` in this example. If you don't have it installed, you\n",
    "can run `using Pkg; Pkg.add(\"PythonPlot\")` to install it."
   ],
   "metadata": {}
  },
  {
   "outputs": [],
   "cell_type": "code",
   "source": [
    "    using Korg, PythonPlot"
   ],
   "metadata": {},
   "execution_count": 1
  },
  {
   "cell_type": "markdown",
   "source": [
    "First, specify the wavelengths and line spread function (LSF).\n",
    "We'll use the APOGEE instument's, wavelength coverage and resolution for this example.\n",
    "Reduced APOGEE spectra are resampled onto wavelengths which are uniform in log-wavelength."
   ],
   "metadata": {}
  },
  {
   "outputs": [
    {
     "output_type": "execute_result",
     "data": {
      "text/plain": "8700-element Vector{Float64}:\n 15074.74588598709\n 15074.954152736687\n 15075.162422363615\n 15075.370694867916\n 15075.578970249626\n 15075.787248508786\n 15075.99552964544\n 15076.20381365962\n 15076.412100551372\n 15076.620390320733\n     ⋮\n 16997.928574606198\n 16998.163411290072\n 16998.398251218357\n 16998.633094391098\n 16998.86794080834\n 16999.10279047013\n 16999.33764337654\n 16999.572499527556\n 16999.807358923248"
     },
     "metadata": {},
     "execution_count": 2
    }
   ],
   "cell_type": "code",
   "source": [
    "delLog = 6e-6;\n",
    "apowls = 10 .^ range((start = 4.179 - 125 * delLog); step=delLog, length=8575 + 125)"
   ],
   "metadata": {},
   "execution_count": 2
  },
  {
   "cell_type": "markdown",
   "source": [
    "We compute the LSF from the APOGEE resolution ($R \\approx 22,500$) as a sparse matrix.\n",
    "(See the LSF explanation here for more details.)"
   ],
   "metadata": {}
  },
  {
   "outputs": [
    {
     "output_type": "execute_result",
     "data": {
      "text/plain": "8700×200001 LinearAlgebra.Adjoint{Float64, SparseArrays.SparseMatrixCSC{Float64, Int64}} with 2103823 stored entries:\n⎡⠀⠈⠉⠉⠓⠒⠒⠒⠒⠶⠤⠤⠤⠤⢤⣀⣀⣀⣀⣀⡀⠀⠀⠀⠀⠀⠀⠀⠀⠀⠀⠀⠀⠀⠀⠀⠀⠀⠀⠀⎤\n⎣⠀⠀⠀⠀⠀⠀⠀⠀⠀⠀⠀⠀⠀⠀⠀⠀⠀⠀⠀⠀⠉⠉⠉⠉⠉⠙⠒⠒⠒⠒⠒⠦⠤⠤⠤⠤⢤⣀⣀⣀⎦"
     },
     "metadata": {},
     "execution_count": 3
    }
   ],
   "cell_type": "code",
   "source": [
    "LSF = Korg.compute_LSF_matrix((15_000, 17_000), apowls, 22_500)"
   ],
   "metadata": {},
   "execution_count": 3
  },
  {
   "cell_type": "markdown",
   "source": [
    "Now, let's synthesize a spectrum, and simultaneously apply the LSF and resample to the APOGEE\n",
    "wavelength grid."
   ],
   "metadata": {}
  },
  {
   "outputs": [],
   "cell_type": "code",
   "source": [
    "apolines = Korg.get_APOGEE_DR17_linelist(; include_water=true)\n",
    "wls, flux, _ = Korg.synth(; linelist=apolines,\n",
    "                          wavelengths=(15_000, 17_000),\n",
    "                          Teff=5777,\n",
    "                          logg=4.44,\n",
    "                          M_H=-1.1,)\n",
    "\n",
    "SNR = 50.0\n",
    "obs_err = (LSF * flux) ./ SNR;"
   ],
   "metadata": {},
   "execution_count": 4
  },
  {
   "cell_type": "markdown",
   "source": [
    "# Exact radial velocity precision\n",
    "\n",
    "This function provides the exact RV precision bound (in the small redshift limit) in m/s. Note\n",
    "that we are using the unconvolved flux here (`flux`), not the values with the LSF applied\n",
    "(`LSF * flux`)."
   ],
   "metadata": {}
  },
  {
   "outputs": [
    {
     "output_type": "execute_result",
     "data": {
      "text/plain": "146.81420525789275"
     },
     "metadata": {},
     "execution_count": 5
    }
   ],
   "cell_type": "code",
   "source": [
    "noise_prec = Korg.RV_prec_from_noise(flux, (15_000, 17_000), apowls, LSF, obs_err)"
   ],
   "metadata": {},
   "execution_count": 5
  },
  {
   "cell_type": "markdown",
   "source": [
    "# $Q$-factor calculation\n",
    "We can also calculate the $Q$-factor, which provides an approximately $S/N$-independent notion\n",
    "of the radial velocity \"information\" in the spectrum."
   ],
   "metadata": {}
  },
  {
   "outputs": [
    {
     "output_type": "execute_result",
     "data": {
      "text/plain": "413.700951026419"
     },
     "metadata": {},
     "execution_count": 6
    }
   ],
   "cell_type": "code",
   "source": [
    "Q = Korg.Qfactor(flux, (15_000, 17_000), apowls, LSF)"
   ],
   "metadata": {},
   "execution_count": 6
  },
  {
   "cell_type": "markdown",
   "source": [
    "We can calculate the appriximate RV precision bound from $Q$.  Technically,\n",
    "the precision depends on the root-mean-squared per-pixel $S/N$ value, but for non-line-blanket\n",
    "spectra, this is approximately equal to the $S/N$. (Verifying this fact is left as an excercise\n",
    "to the reader.)"
   ],
   "metadata": {}
  },
  {
   "outputs": [
    {
     "output_type": "execute_result",
     "data": {
      "text/plain": "155.38337597445252"
     },
     "metadata": {},
     "execution_count": 7
    }
   ],
   "cell_type": "code",
   "source": [
    "SNR_RMS = SNR # approximately\n",
    "Npixels = length(apowls)\n",
    "Q_prec = Korg.RV_prec_from_Q(Q, SNR, Npixels)"
   ],
   "metadata": {},
   "execution_count": 7
  },
  {
   "cell_type": "markdown",
   "source": [
    "This is a few m/s off of the exact calculation, but it's pretty close!"
   ],
   "metadata": {}
  },
  {
   "cell_type": "markdown",
   "source": [
    "# $Q$-factor as a function of metallicity\n",
    "\n",
    "Let's examine how the $Q$-factor changes as we change the metallicity for a star with solar\n",
    "$T_\\mathrm{eff}$ and $\\log g$. As we add more and deeper lines, there is more for an RV\n",
    "measurement to grab onto."
   ],
   "metadata": {}
  },
  {
   "outputs": [
    {
     "output_type": "execute_result",
     "data": {
      "text/plain": "Python: Text(0, 0.5, '$Q$ [m/s]')"
     },
     "metadata": {},
     "execution_count": 8
    }
   ],
   "cell_type": "code",
   "source": [
    "M_Hs = -5:1.0:0 #metallicity ([M/H]) values\n",
    "Qs = map(M_Hs) do M_H\n",
    "    _, flux, _ = Korg.synth(; linelist=apolines, wavelengths=(15_000, 17_000), Teff=5777, logg=4.44,\n",
    "                            M_H=M_H,)\n",
    "    Korg.Qfactor(flux, (15_000, 17_000), apowls, LSF)\n",
    "end\n",
    "\n",
    "scatter(M_Hs, Qs)\n",
    "xlabel(\"[M/H]\")\n",
    "ylabel(L\"$Q$ [m/s]\")"
   ],
   "metadata": {},
   "execution_count": 8
  },
  {
   "cell_type": "markdown",
   "source": [
    "We can use the $Q$-factors to calculate the RV precision across $S/N$. Note that these\n",
    "precision estimates are not the whole story at high $S/N$ because effects like granulation become\n",
    "important."
   ],
   "metadata": {}
  },
  {
   "outputs": [
    {
     "output_type": "execute_result",
     "data": {
      "text/plain": "Python: None"
     },
     "metadata": {},
     "execution_count": 9
    }
   ],
   "cell_type": "code",
   "source": [
    "SNRs = 1:1:1000\n",
    "for (M_H, Q) in zip(M_Hs, Qs)\n",
    "    plot(SNRs, Korg.RV_prec_from_Q.(Q, SNRs, Npixels); label=\"[M/H] = $M_H\")\n",
    "end\n",
    "legend()\n",
    "ylabel(\"RV precision [m/s]\")\n",
    "xlabel(\"S/N\")\n",
    "yscale(\"log\")\n",
    "xscale(\"log\")"
   ],
   "metadata": {},
   "execution_count": 9
  }
 ],
 "nbformat_minor": 3,
 "metadata": {
  "language_info": {
   "file_extension": ".jl",
   "mimetype": "application/julia",
   "name": "julia",
   "version": "1.11.7"
  },
  "kernelspec": {
   "name": "julia-1.11",
   "display_name": "Julia 1.11.7",
   "language": "julia"
  }
 },
 "nbformat": 4
}